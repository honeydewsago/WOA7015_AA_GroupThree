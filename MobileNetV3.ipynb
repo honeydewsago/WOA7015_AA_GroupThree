{
 "cells": [
  {
   "cell_type": "code",
   "execution_count": 74,
   "metadata": {
    "id": "OTsDGhNGcIQw"
   },
   "outputs": [],
   "source": [
    "import numpy as np\n",
    "import matplotlib.pyplot as plt\n",
    "import os\n",
    "import pandas as pd\n",
    "import tensorflow as tf\n",
    "from tensorflow.keras.applications import MobileNetV3Large\n",
    "from tensorflow.keras.layers import GlobalAveragePooling2D, AveragePooling2D, Dense, MaxPooling2D, GlobalMaxPooling2D, Flatten, Dropout, BatchNormalization\n",
    "from tensorflow.keras.models import Sequential\n",
    "from tensorflow.keras.optimizers import Adam\n",
    "from sklearn.model_selection import train_test_split\n",
    "from tensorflow.keras.callbacks import LearningRateScheduler, ReduceLROnPlateau"
   ]
  },
  {
   "cell_type": "code",
   "execution_count": 75,
   "metadata": {},
   "outputs": [],
   "source": [
    "def train_df(tr_path):\n",
    "    classes, class_paths = zip(*[(label, os.path.join(tr_path, label, image))\n",
    "                                 for label in os.listdir(tr_path) if os.path.isdir(os.path.join(tr_path, label))\n",
    "                                 for image in os.listdir(os.path.join(tr_path, label))])\n",
    "\n",
    "    tr_df = pd.DataFrame({'Class Path': class_paths, 'Class': classes})\n",
    "    return tr_df\n",
    "\n",
    "def test_df(ts_path):\n",
    "    classes, class_paths = zip(*[(label, os.path.join(ts_path, label, image))\n",
    "                                 for label in os.listdir(ts_path) if os.path.isdir(os.path.join(ts_path, label))\n",
    "                                 for image in os.listdir(os.path.join(ts_path, label))])\n",
    "\n",
    "    ts_df = pd.DataFrame({'Class Path': class_paths, 'Class': classes})\n",
    "    return ts_df\n",
    "\n",
    "def scheduler(epoch, lr):\n",
    "    if epoch < 10:\n",
    "        return lr\n",
    "    else:\n",
    "        return float(lr * tf.math.exp(-0.1))"
   ]
  },
  {
   "cell_type": "code",
   "execution_count": 76,
   "metadata": {
    "id": "BeDA3j6VcJCP"
   },
   "outputs": [],
   "source": [
    "# train_path = '/content/drive/MyDrive/Colab Notebooks/brain_tumor_detection/brain_tumor_dataset/Training'\n",
    "# test_path = '/content/drive/MyDrive/Colab Notebooks/brain_tumor_detection/brain_tumor_dataset/Testing'\n",
    "train_path = 'brain_tumor_dataset/Training_balanced'\n",
    "test_path = 'brain_tumor_dataset/Testing_balanced'"
   ]
  },
  {
   "cell_type": "code",
   "execution_count": 77,
   "metadata": {},
   "outputs": [
    {
     "data": {
      "text/html": [
       "<div>\n",
       "<style scoped>\n",
       "    .dataframe tbody tr th:only-of-type {\n",
       "        vertical-align: middle;\n",
       "    }\n",
       "\n",
       "    .dataframe tbody tr th {\n",
       "        vertical-align: top;\n",
       "    }\n",
       "\n",
       "    .dataframe thead th {\n",
       "        text-align: right;\n",
       "    }\n",
       "</style>\n",
       "<table border=\"1\" class=\"dataframe\">\n",
       "  <thead>\n",
       "    <tr style=\"text-align: right;\">\n",
       "      <th></th>\n",
       "      <th>Class Path</th>\n",
       "      <th>Class</th>\n",
       "    </tr>\n",
       "  </thead>\n",
       "  <tbody>\n",
       "    <tr>\n",
       "      <th>1116</th>\n",
       "      <td>brain_tumor_dataset/Testing_balanced/meningiom...</td>\n",
       "      <td>meningioma</td>\n",
       "    </tr>\n",
       "    <tr>\n",
       "      <th>917</th>\n",
       "      <td>brain_tumor_dataset/Testing_balanced/meningiom...</td>\n",
       "      <td>meningioma</td>\n",
       "    </tr>\n",
       "    <tr>\n",
       "      <th>195</th>\n",
       "      <td>brain_tumor_dataset/Testing_balanced/pituitary...</td>\n",
       "      <td>pituitary</td>\n",
       "    </tr>\n",
       "    <tr>\n",
       "      <th>455</th>\n",
       "      <td>brain_tumor_dataset/Testing_balanced/notumor/T...</td>\n",
       "      <td>notumor</td>\n",
       "    </tr>\n",
       "    <tr>\n",
       "      <th>861</th>\n",
       "      <td>brain_tumor_dataset/Testing_balanced/glioma/Te...</td>\n",
       "      <td>glioma</td>\n",
       "    </tr>\n",
       "    <tr>\n",
       "      <th>...</th>\n",
       "      <td>...</td>\n",
       "      <td>...</td>\n",
       "    </tr>\n",
       "    <tr>\n",
       "      <th>121</th>\n",
       "      <td>brain_tumor_dataset/Testing_balanced/pituitary...</td>\n",
       "      <td>pituitary</td>\n",
       "    </tr>\n",
       "    <tr>\n",
       "      <th>118</th>\n",
       "      <td>brain_tumor_dataset/Testing_balanced/pituitary...</td>\n",
       "      <td>pituitary</td>\n",
       "    </tr>\n",
       "    <tr>\n",
       "      <th>415</th>\n",
       "      <td>brain_tumor_dataset/Testing_balanced/notumor/T...</td>\n",
       "      <td>notumor</td>\n",
       "    </tr>\n",
       "    <tr>\n",
       "      <th>341</th>\n",
       "      <td>brain_tumor_dataset/Testing_balanced/notumor/T...</td>\n",
       "      <td>notumor</td>\n",
       "    </tr>\n",
       "    <tr>\n",
       "      <th>308</th>\n",
       "      <td>brain_tumor_dataset/Testing_balanced/notumor/T...</td>\n",
       "      <td>notumor</td>\n",
       "    </tr>\n",
       "  </tbody>\n",
       "</table>\n",
       "<p>600 rows × 2 columns</p>\n",
       "</div>"
      ],
      "text/plain": [
       "                                             Class Path       Class\n",
       "1116  brain_tumor_dataset/Testing_balanced/meningiom...  meningioma\n",
       "917   brain_tumor_dataset/Testing_balanced/meningiom...  meningioma\n",
       "195   brain_tumor_dataset/Testing_balanced/pituitary...   pituitary\n",
       "455   brain_tumor_dataset/Testing_balanced/notumor/T...     notumor\n",
       "861   brain_tumor_dataset/Testing_balanced/glioma/Te...      glioma\n",
       "...                                                 ...         ...\n",
       "121   brain_tumor_dataset/Testing_balanced/pituitary...   pituitary\n",
       "118   brain_tumor_dataset/Testing_balanced/pituitary...   pituitary\n",
       "415   brain_tumor_dataset/Testing_balanced/notumor/T...     notumor\n",
       "341   brain_tumor_dataset/Testing_balanced/notumor/T...     notumor\n",
       "308   brain_tumor_dataset/Testing_balanced/notumor/T...     notumor\n",
       "\n",
       "[600 rows x 2 columns]"
      ]
     },
     "execution_count": 77,
     "metadata": {},
     "output_type": "execute_result"
    }
   ],
   "source": [
    "train_df = train_df(train_path)\n",
    "test_df = test_df(test_path)\n",
    "valid_df, test_df = train_test_split(test_df, train_size=0.5, random_state=20, stratify=test_df['Class'])\n",
    "valid_df"
   ]
  },
  {
   "cell_type": "code",
   "execution_count": 78,
   "metadata": {
    "id": "KSXZMlc3mdbI"
   },
   "outputs": [
    {
     "name": "stdout",
     "output_type": "stream",
     "text": [
      "Found 5284 validated image filenames belonging to 4 classes.\n",
      "Found 600 validated image filenames belonging to 4 classes.\n",
      "Found 600 validated image filenames belonging to 4 classes.\n"
     ]
    }
   ],
   "source": [
    "from tensorflow.keras.preprocessing.image import ImageDataGenerator\n",
    "\n",
    "batch_size = 256\n",
    "img_size = (224, 224)\n",
    "\n",
    "_gen = ImageDataGenerator(\n",
    "    rescale=1.0/255.0,\n",
    "    rotation_range=20,\n",
    "    width_shift_range=0.2,\n",
    "    height_shift_range=0.2,\n",
    "    shear_range=0.2,\n",
    "    zoom_range=0.2,\n",
    "    horizontal_flip=True,\n",
    "    fill_mode='nearest'\n",
    ")\n",
    "\n",
    "test_gen = ImageDataGenerator(rescale=1/255)\n",
    "\n",
    "\n",
    "train_gen = _gen.flow_from_dataframe(train_df, x_col='Class Path',\n",
    "                                  y_col='Class', batch_size=batch_size,\n",
    "                                  target_size=img_size)\n",
    "\n",
    "valid_gen = test_gen.flow_from_dataframe(valid_df, x_col='Class Path',\n",
    "                                     y_col='Class', batch_size=batch_size,\n",
    "                                     target_size=img_size)\n",
    "\n",
    "test_gen = test_gen.flow_from_dataframe(test_df, x_col='Class Path',\n",
    "                                  y_col='Class', batch_size=16,\n",
    "                                  target_size=img_size, shuffle=False)"
   ]
  },
  {
   "cell_type": "code",
   "execution_count": 79,
   "metadata": {
    "colab": {
     "base_uri": "https://localhost:8080/",
     "height": 162
    },
    "id": "M5QT_yB9rhXi",
    "outputId": "9c5b47d0-ee44-4a0b-ee10-b9ba8ca5eb68"
   },
   "outputs": [
    {
     "name": "stdout",
     "output_type": "stream",
     "text": [
      "Training samples: 5284\n",
      "Validation samples: 600\n",
      "Validation samples: 600\n"
     ]
    }
   ],
   "source": [
    "print(f\"Training samples: {train_gen.samples}\")\n",
    "print(f\"Validation samples: {test_gen.samples}\")\n",
    "print(f\"Validation samples: {valid_gen.samples}\")"
   ]
  },
  {
   "cell_type": "code",
   "execution_count": 80,
   "metadata": {
    "colab": {
     "base_uri": "https://localhost:8080/",
     "height": 250
    },
    "id": "WtvXy4HZckzN",
    "outputId": "c9a715d9-e935-420f-ed19-fb6fb1e8e02f"
   },
   "outputs": [
    {
     "data": {
      "text/html": [
       "<pre style=\"white-space:pre;overflow-x:auto;line-height:normal;font-family:Menlo,'DejaVu Sans Mono',consolas,'Courier New',monospace\"><span style=\"font-weight: bold\">Model: \"sequential_6\"</span>\n",
       "</pre>\n"
      ],
      "text/plain": [
       "\u001b[1mModel: \"sequential_6\"\u001b[0m\n"
      ]
     },
     "metadata": {},
     "output_type": "display_data"
    },
    {
     "data": {
      "text/html": [
       "<pre style=\"white-space:pre;overflow-x:auto;line-height:normal;font-family:Menlo,'DejaVu Sans Mono',consolas,'Courier New',monospace\">┏━━━━━━━━━━━━━━━━━━━━━━━━━━━━━━━━━┳━━━━━━━━━━━━━━━━━━━━━━━━┳━━━━━━━━━━━━━━━┓\n",
       "┃<span style=\"font-weight: bold\"> Layer (type)                    </span>┃<span style=\"font-weight: bold\"> Output Shape           </span>┃<span style=\"font-weight: bold\">       Param # </span>┃\n",
       "┡━━━━━━━━━━━━━━━━━━━━━━━━━━━━━━━━━╇━━━━━━━━━━━━━━━━━━━━━━━━╇━━━━━━━━━━━━━━━┩\n",
       "│ MobileNetV3Large (<span style=\"color: #0087ff; text-decoration-color: #0087ff\">Functional</span>)   │ (<span style=\"color: #00d7ff; text-decoration-color: #00d7ff\">None</span>, <span style=\"color: #00af00; text-decoration-color: #00af00\">7</span>, <span style=\"color: #00af00; text-decoration-color: #00af00\">7</span>, <span style=\"color: #00af00; text-decoration-color: #00af00\">960</span>)      │     <span style=\"color: #00af00; text-decoration-color: #00af00\">2,996,352</span> │\n",
       "├─────────────────────────────────┼────────────────────────┼───────────────┤\n",
       "│ average_pooling2d_6             │ (<span style=\"color: #00d7ff; text-decoration-color: #00d7ff\">None</span>, <span style=\"color: #00af00; text-decoration-color: #00af00\">3</span>, <span style=\"color: #00af00; text-decoration-color: #00af00\">3</span>, <span style=\"color: #00af00; text-decoration-color: #00af00\">960</span>)      │             <span style=\"color: #00af00; text-decoration-color: #00af00\">0</span> │\n",
       "│ (<span style=\"color: #0087ff; text-decoration-color: #0087ff\">AveragePooling2D</span>)              │                        │               │\n",
       "├─────────────────────────────────┼────────────────────────┼───────────────┤\n",
       "│ flatten_6 (<span style=\"color: #0087ff; text-decoration-color: #0087ff\">Flatten</span>)             │ (<span style=\"color: #00d7ff; text-decoration-color: #00d7ff\">None</span>, <span style=\"color: #00af00; text-decoration-color: #00af00\">8640</span>)           │             <span style=\"color: #00af00; text-decoration-color: #00af00\">0</span> │\n",
       "├─────────────────────────────────┼────────────────────────┼───────────────┤\n",
       "│ dense_16 (<span style=\"color: #0087ff; text-decoration-color: #0087ff\">Dense</span>)                │ (<span style=\"color: #00d7ff; text-decoration-color: #00d7ff\">None</span>, <span style=\"color: #00af00; text-decoration-color: #00af00\">256</span>)            │     <span style=\"color: #00af00; text-decoration-color: #00af00\">2,212,096</span> │\n",
       "├─────────────────────────────────┼────────────────────────┼───────────────┤\n",
       "│ batch_normalization_8           │ (<span style=\"color: #00d7ff; text-decoration-color: #00d7ff\">None</span>, <span style=\"color: #00af00; text-decoration-color: #00af00\">256</span>)            │         <span style=\"color: #00af00; text-decoration-color: #00af00\">1,024</span> │\n",
       "│ (<span style=\"color: #0087ff; text-decoration-color: #0087ff\">BatchNormalization</span>)            │                        │               │\n",
       "├─────────────────────────────────┼────────────────────────┼───────────────┤\n",
       "│ dense_17 (<span style=\"color: #0087ff; text-decoration-color: #0087ff\">Dense</span>)                │ (<span style=\"color: #00d7ff; text-decoration-color: #00d7ff\">None</span>, <span style=\"color: #00af00; text-decoration-color: #00af00\">256</span>)            │        <span style=\"color: #00af00; text-decoration-color: #00af00\">65,792</span> │\n",
       "├─────────────────────────────────┼────────────────────────┼───────────────┤\n",
       "│ batch_normalization_9           │ (<span style=\"color: #00d7ff; text-decoration-color: #00d7ff\">None</span>, <span style=\"color: #00af00; text-decoration-color: #00af00\">256</span>)            │         <span style=\"color: #00af00; text-decoration-color: #00af00\">1,024</span> │\n",
       "│ (<span style=\"color: #0087ff; text-decoration-color: #0087ff\">BatchNormalization</span>)            │                        │               │\n",
       "├─────────────────────────────────┼────────────────────────┼───────────────┤\n",
       "│ dense_18 (<span style=\"color: #0087ff; text-decoration-color: #0087ff\">Dense</span>)                │ (<span style=\"color: #00d7ff; text-decoration-color: #00d7ff\">None</span>, <span style=\"color: #00af00; text-decoration-color: #00af00\">4</span>)              │         <span style=\"color: #00af00; text-decoration-color: #00af00\">1,028</span> │\n",
       "└─────────────────────────────────┴────────────────────────┴───────────────┘\n",
       "</pre>\n"
      ],
      "text/plain": [
       "┏━━━━━━━━━━━━━━━━━━━━━━━━━━━━━━━━━┳━━━━━━━━━━━━━━━━━━━━━━━━┳━━━━━━━━━━━━━━━┓\n",
       "┃\u001b[1m \u001b[0m\u001b[1mLayer (type)                   \u001b[0m\u001b[1m \u001b[0m┃\u001b[1m \u001b[0m\u001b[1mOutput Shape          \u001b[0m\u001b[1m \u001b[0m┃\u001b[1m \u001b[0m\u001b[1m      Param #\u001b[0m\u001b[1m \u001b[0m┃\n",
       "┡━━━━━━━━━━━━━━━━━━━━━━━━━━━━━━━━━╇━━━━━━━━━━━━━━━━━━━━━━━━╇━━━━━━━━━━━━━━━┩\n",
       "│ MobileNetV3Large (\u001b[38;5;33mFunctional\u001b[0m)   │ (\u001b[38;5;45mNone\u001b[0m, \u001b[38;5;34m7\u001b[0m, \u001b[38;5;34m7\u001b[0m, \u001b[38;5;34m960\u001b[0m)      │     \u001b[38;5;34m2,996,352\u001b[0m │\n",
       "├─────────────────────────────────┼────────────────────────┼───────────────┤\n",
       "│ average_pooling2d_6             │ (\u001b[38;5;45mNone\u001b[0m, \u001b[38;5;34m3\u001b[0m, \u001b[38;5;34m3\u001b[0m, \u001b[38;5;34m960\u001b[0m)      │             \u001b[38;5;34m0\u001b[0m │\n",
       "│ (\u001b[38;5;33mAveragePooling2D\u001b[0m)              │                        │               │\n",
       "├─────────────────────────────────┼────────────────────────┼───────────────┤\n",
       "│ flatten_6 (\u001b[38;5;33mFlatten\u001b[0m)             │ (\u001b[38;5;45mNone\u001b[0m, \u001b[38;5;34m8640\u001b[0m)           │             \u001b[38;5;34m0\u001b[0m │\n",
       "├─────────────────────────────────┼────────────────────────┼───────────────┤\n",
       "│ dense_16 (\u001b[38;5;33mDense\u001b[0m)                │ (\u001b[38;5;45mNone\u001b[0m, \u001b[38;5;34m256\u001b[0m)            │     \u001b[38;5;34m2,212,096\u001b[0m │\n",
       "├─────────────────────────────────┼────────────────────────┼───────────────┤\n",
       "│ batch_normalization_8           │ (\u001b[38;5;45mNone\u001b[0m, \u001b[38;5;34m256\u001b[0m)            │         \u001b[38;5;34m1,024\u001b[0m │\n",
       "│ (\u001b[38;5;33mBatchNormalization\u001b[0m)            │                        │               │\n",
       "├─────────────────────────────────┼────────────────────────┼───────────────┤\n",
       "│ dense_17 (\u001b[38;5;33mDense\u001b[0m)                │ (\u001b[38;5;45mNone\u001b[0m, \u001b[38;5;34m256\u001b[0m)            │        \u001b[38;5;34m65,792\u001b[0m │\n",
       "├─────────────────────────────────┼────────────────────────┼───────────────┤\n",
       "│ batch_normalization_9           │ (\u001b[38;5;45mNone\u001b[0m, \u001b[38;5;34m256\u001b[0m)            │         \u001b[38;5;34m1,024\u001b[0m │\n",
       "│ (\u001b[38;5;33mBatchNormalization\u001b[0m)            │                        │               │\n",
       "├─────────────────────────────────┼────────────────────────┼───────────────┤\n",
       "│ dense_18 (\u001b[38;5;33mDense\u001b[0m)                │ (\u001b[38;5;45mNone\u001b[0m, \u001b[38;5;34m4\u001b[0m)              │         \u001b[38;5;34m1,028\u001b[0m │\n",
       "└─────────────────────────────────┴────────────────────────┴───────────────┘\n"
      ]
     },
     "metadata": {},
     "output_type": "display_data"
    },
    {
     "data": {
      "text/html": [
       "<pre style=\"white-space:pre;overflow-x:auto;line-height:normal;font-family:Menlo,'DejaVu Sans Mono',consolas,'Courier New',monospace\"><span style=\"font-weight: bold\"> Total params: </span><span style=\"color: #00af00; text-decoration-color: #00af00\">5,277,316</span> (20.13 MB)\n",
       "</pre>\n"
      ],
      "text/plain": [
       "\u001b[1m Total params: \u001b[0m\u001b[38;5;34m5,277,316\u001b[0m (20.13 MB)\n"
      ]
     },
     "metadata": {},
     "output_type": "display_data"
    },
    {
     "data": {
      "text/html": [
       "<pre style=\"white-space:pre;overflow-x:auto;line-height:normal;font-family:Menlo,'DejaVu Sans Mono',consolas,'Courier New',monospace\"><span style=\"font-weight: bold\"> Trainable params: </span><span style=\"color: #00af00; text-decoration-color: #00af00\">2,279,940</span> (8.70 MB)\n",
       "</pre>\n"
      ],
      "text/plain": [
       "\u001b[1m Trainable params: \u001b[0m\u001b[38;5;34m2,279,940\u001b[0m (8.70 MB)\n"
      ]
     },
     "metadata": {},
     "output_type": "display_data"
    },
    {
     "data": {
      "text/html": [
       "<pre style=\"white-space:pre;overflow-x:auto;line-height:normal;font-family:Menlo,'DejaVu Sans Mono',consolas,'Courier New',monospace\"><span style=\"font-weight: bold\"> Non-trainable params: </span><span style=\"color: #00af00; text-decoration-color: #00af00\">2,997,376</span> (11.43 MB)\n",
       "</pre>\n"
      ],
      "text/plain": [
       "\u001b[1m Non-trainable params: \u001b[0m\u001b[38;5;34m2,997,376\u001b[0m (11.43 MB)\n"
      ]
     },
     "metadata": {},
     "output_type": "display_data"
    },
    {
     "name": "stdout",
     "output_type": "stream",
     "text": [
      "Num GPUs Available:  1\n"
     ]
    }
   ],
   "source": [
    "import ssl\n",
    "ssl._create_default_https_context = ssl._create_unverified_context\n",
    "\n",
    "EPOCHS = 10\n",
    "checkpoint_filepath = './ckpt/checkpoint.model.keras'\n",
    "model_temp = MobileNetV3Large(weights='imagenet', include_top=False, input_shape=(224, 224, 3))\n",
    "model_temp.trainable = False\n",
    "\n",
    "model = Sequential()\n",
    "model.add(model_temp)\n",
    "model.add(AveragePooling2D(pool_size=(2, 2)))\n",
    "model.add(Flatten())\n",
    "# model.add(MaxPooling2D(pool_size=(2, 2)))\n",
    "# model.add(Flatten())\n",
    "\n",
    "# Add additional layers\n",
    "# model.add(Dense(256, activation='relu'))\n",
    "# model.add(BatchNormalization())\n",
    "\n",
    "# model.add(Dense(256, activation='relu'))\n",
    "# model.add(BatchNormalization())\n",
    "\n",
    "# model.add(Dropout(0.5))\n",
    "\n",
    "# Output layer\n",
    "model.add(Dense(4, activation='softmax'))\n",
    "optimizer = Adam(learning_rate=0.01)\n",
    "model.compile(optimizer=optimizer, loss='categorical_crossentropy', metrics=['accuracy'])\n",
    "\n",
    "lr_scheduler = LearningRateScheduler(scheduler)\n",
    "reduce_lr = ReduceLROnPlateau(monitor='val_loss', factor=0.2,\n",
    "                              patience=5, min_lr=0.001)\n",
    "model_checkpoint_callback = tf.keras.callbacks.ModelCheckpoint(\n",
    "    filepath=checkpoint_filepath,\n",
    "    monitor='val_accuracy',\n",
    "    mode='max',\n",
    "    save_best_only=True)\n",
    "model.summary()\n",
    "\n",
    "print(\"Num GPUs Available: \", len(tf.config.experimental.list_physical_devices('GPU')))"
   ]
  },
  {
   "cell_type": "code",
   "execution_count": 81,
   "metadata": {
    "colab": {
     "base_uri": "https://localhost:8080/"
    },
    "id": "WPPv8UUOcovY",
    "outputId": "5f189eb1-4f49-4002-e726-67baad96e94e"
   },
   "outputs": [
    {
     "name": "stderr",
     "output_type": "stream",
     "text": [
      "/Users/gary/Library/Python/3.9/lib/python/site-packages/keras/src/trainers/data_adapters/py_dataset_adapter.py:121: UserWarning: Your `PyDataset` class should call `super().__init__(**kwargs)` in its constructor. `**kwargs` can include `workers`, `use_multiprocessing`, `max_queue_size`. Do not pass these arguments to `fit()`, as they will be ignored.\n",
      "  self._warn_if_super_not_called()\n"
     ]
    },
    {
     "name": "stdout",
     "output_type": "stream",
     "text": [
      "Epoch 1/50\n",
      "\u001b[1m21/21\u001b[0m \u001b[32m━━━━━━━━━━━━━━━━━━━━\u001b[0m\u001b[37m\u001b[0m \u001b[1m62s\u001b[0m 2s/step - accuracy: 0.4072 - loss: 1.5831 - val_accuracy: 0.3500 - val_loss: 9.2524 - learning_rate: 0.0100\n",
      "Epoch 2/50\n",
      "\u001b[1m21/21\u001b[0m \u001b[32m━━━━━━━━━━━━━━━━━━━━\u001b[0m\u001b[37m\u001b[0m \u001b[1m27s\u001b[0m 1s/step - accuracy: 0.5378 - loss: 1.0399 - val_accuracy: 0.3767 - val_loss: 7.2951 - learning_rate: 0.0100\n",
      "Epoch 3/50\n",
      "\u001b[1m21/21\u001b[0m \u001b[32m━━━━━━━━━━━━━━━━━━━━\u001b[0m\u001b[37m\u001b[0m \u001b[1m28s\u001b[0m 1s/step - accuracy: 0.5804 - loss: 0.9732 - val_accuracy: 0.3667 - val_loss: 8.4371 - learning_rate: 0.0100\n",
      "Epoch 4/50\n",
      "\u001b[1m21/21\u001b[0m \u001b[32m━━━━━━━━━━━━━━━━━━━━\u001b[0m\u001b[37m\u001b[0m \u001b[1m29s\u001b[0m 1s/step - accuracy: 0.5901 - loss: 0.9828 - val_accuracy: 0.3600 - val_loss: 7.2977 - learning_rate: 0.0100\n",
      "Epoch 5/50\n",
      "\u001b[1m21/21\u001b[0m \u001b[32m━━━━━━━━━━━━━━━━━━━━\u001b[0m\u001b[37m\u001b[0m \u001b[1m28s\u001b[0m 1s/step - accuracy: 0.6177 - loss: 0.9058 - val_accuracy: 0.4200 - val_loss: 3.1555 - learning_rate: 0.0100\n",
      "Epoch 6/50\n",
      "\u001b[1m21/21\u001b[0m \u001b[32m━━━━━━━━━━━━━━━━━━━━\u001b[0m\u001b[37m\u001b[0m \u001b[1m28s\u001b[0m 1s/step - accuracy: 0.6371 - loss: 0.8583 - val_accuracy: 0.6200 - val_loss: 1.1058 - learning_rate: 0.0100\n",
      "Epoch 7/50\n",
      "\u001b[1m21/21\u001b[0m \u001b[32m━━━━━━━━━━━━━━━━━━━━\u001b[0m\u001b[37m\u001b[0m \u001b[1m25s\u001b[0m 1s/step - accuracy: 0.6374 - loss: 0.8666 - val_accuracy: 0.4783 - val_loss: 1.9515 - learning_rate: 0.0100\n",
      "Epoch 8/50\n",
      "\u001b[1m21/21\u001b[0m \u001b[32m━━━━━━━━━━━━━━━━━━━━\u001b[0m\u001b[37m\u001b[0m \u001b[1m26s\u001b[0m 1s/step - accuracy: 0.6553 - loss: 0.8491 - val_accuracy: 0.5167 - val_loss: 2.0172 - learning_rate: 0.0100\n",
      "Epoch 9/50\n",
      "\u001b[1m21/21\u001b[0m \u001b[32m━━━━━━━━━━━━━━━━━━━━\u001b[0m\u001b[37m\u001b[0m \u001b[1m25s\u001b[0m 1s/step - accuracy: 0.6516 - loss: 0.8255 - val_accuracy: 0.4833 - val_loss: 2.3976 - learning_rate: 0.0100\n",
      "Epoch 10/50\n",
      "\u001b[1m21/21\u001b[0m \u001b[32m━━━━━━━━━━━━━━━━━━━━\u001b[0m\u001b[37m\u001b[0m \u001b[1m25s\u001b[0m 1s/step - accuracy: 0.6745 - loss: 0.8060 - val_accuracy: 0.5200 - val_loss: 1.6904 - learning_rate: 0.0100\n",
      "Epoch 11/50\n",
      "\u001b[1m21/21\u001b[0m \u001b[32m━━━━━━━━━━━━━━━━━━━━\u001b[0m\u001b[37m\u001b[0m \u001b[1m27s\u001b[0m 1s/step - accuracy: 0.6574 - loss: 0.8024 - val_accuracy: 0.3967 - val_loss: 2.3893 - learning_rate: 0.0090\n",
      "Epoch 12/50\n",
      "\u001b[1m21/21\u001b[0m \u001b[32m━━━━━━━━━━━━━━━━━━━━\u001b[0m\u001b[37m\u001b[0m \u001b[1m27s\u001b[0m 1s/step - accuracy: 0.6610 - loss: 0.8167 - val_accuracy: 0.3317 - val_loss: 3.2501 - learning_rate: 0.0082\n",
      "Epoch 13/50\n",
      "\u001b[1m21/21\u001b[0m \u001b[32m━━━━━━━━━━━━━━━━━━━━\u001b[0m\u001b[37m\u001b[0m \u001b[1m27s\u001b[0m 1s/step - accuracy: 0.6583 - loss: 0.8297 - val_accuracy: 0.4200 - val_loss: 2.5848 - learning_rate: 0.0074\n",
      "Epoch 14/50\n",
      "\u001b[1m21/21\u001b[0m \u001b[32m━━━━━━━━━━━━━━━━━━━━\u001b[0m\u001b[37m\u001b[0m \u001b[1m26s\u001b[0m 1s/step - accuracy: 0.6838 - loss: 0.7930 - val_accuracy: 0.4633 - val_loss: 1.7731 - learning_rate: 0.0067\n",
      "Epoch 15/50\n",
      "\u001b[1m21/21\u001b[0m \u001b[32m━━━━━━━━━━━━━━━━━━━━\u001b[0m\u001b[37m\u001b[0m \u001b[1m27s\u001b[0m 1s/step - accuracy: 0.6533 - loss: 0.8027 - val_accuracy: 0.4983 - val_loss: 1.7917 - learning_rate: 0.0061\n",
      "Epoch 16/50\n",
      "\u001b[1m21/21\u001b[0m \u001b[32m━━━━━━━━━━━━━━━━━━━━\u001b[0m\u001b[37m\u001b[0m \u001b[1m27s\u001b[0m 1s/step - accuracy: 0.6866 - loss: 0.7700 - val_accuracy: 0.5783 - val_loss: 1.2169 - learning_rate: 0.0055\n",
      "Epoch 17/50\n",
      "\u001b[1m21/21\u001b[0m \u001b[32m━━━━━━━━━━━━━━━━━━━━\u001b[0m\u001b[37m\u001b[0m \u001b[1m27s\u001b[0m 1s/step - accuracy: 0.6805 - loss: 0.7824 - val_accuracy: 0.5050 - val_loss: 1.6529 - learning_rate: 0.0050\n",
      "Epoch 18/50\n",
      "\u001b[1m21/21\u001b[0m \u001b[32m━━━━━━━━━━━━━━━━━━━━\u001b[0m\u001b[37m\u001b[0m \u001b[1m26s\u001b[0m 1s/step - accuracy: 0.6786 - loss: 0.7875 - val_accuracy: 0.5783 - val_loss: 1.5883 - learning_rate: 0.0045\n",
      "Epoch 19/50\n",
      "\u001b[1m21/21\u001b[0m \u001b[32m━━━━━━━━━━━━━━━━━━━━\u001b[0m\u001b[37m\u001b[0m \u001b[1m26s\u001b[0m 1s/step - accuracy: 0.6935 - loss: 0.7630 - val_accuracy: 0.6500 - val_loss: 1.0092 - learning_rate: 0.0041\n",
      "Epoch 20/50\n",
      "\u001b[1m21/21\u001b[0m \u001b[32m━━━━━━━━━━━━━━━━━━━━\u001b[0m\u001b[37m\u001b[0m \u001b[1m26s\u001b[0m 1s/step - accuracy: 0.6805 - loss: 0.7663 - val_accuracy: 0.4300 - val_loss: 1.5576 - learning_rate: 0.0037\n",
      "Epoch 21/50\n",
      "\u001b[1m21/21\u001b[0m \u001b[32m━━━━━━━━━━━━━━━━━━━━\u001b[0m\u001b[37m\u001b[0m \u001b[1m26s\u001b[0m 1s/step - accuracy: 0.6923 - loss: 0.7560 - val_accuracy: 0.4517 - val_loss: 1.9377 - learning_rate: 0.0033\n",
      "Epoch 22/50\n",
      "\u001b[1m21/21\u001b[0m \u001b[32m━━━━━━━━━━━━━━━━━━━━\u001b[0m\u001b[37m\u001b[0m \u001b[1m26s\u001b[0m 1s/step - accuracy: 0.7047 - loss: 0.7233 - val_accuracy: 0.4267 - val_loss: 2.0840 - learning_rate: 0.0030\n",
      "Epoch 23/50\n",
      "\u001b[1m21/21\u001b[0m \u001b[32m━━━━━━━━━━━━━━━━━━━━\u001b[0m\u001b[37m\u001b[0m \u001b[1m27s\u001b[0m 1s/step - accuracy: 0.6988 - loss: 0.7469 - val_accuracy: 0.5233 - val_loss: 1.1325 - learning_rate: 0.0027\n",
      "Epoch 24/50\n",
      "\u001b[1m21/21\u001b[0m \u001b[32m━━━━━━━━━━━━━━━━━━━━\u001b[0m\u001b[37m\u001b[0m \u001b[1m27s\u001b[0m 1s/step - accuracy: 0.6938 - loss: 0.7386 - val_accuracy: 0.5233 - val_loss: 1.2094 - learning_rate: 0.0025\n",
      "Epoch 25/50\n",
      "\u001b[1m21/21\u001b[0m \u001b[32m━━━━━━━━━━━━━━━━━━━━\u001b[0m\u001b[37m\u001b[0m \u001b[1m27s\u001b[0m 1s/step - accuracy: 0.7130 - loss: 0.7259 - val_accuracy: 0.5783 - val_loss: 1.0358 - learning_rate: 0.0022\n",
      "Epoch 26/50\n",
      "\u001b[1m21/21\u001b[0m \u001b[32m━━━━━━━━━━━━━━━━━━━━\u001b[0m\u001b[37m\u001b[0m \u001b[1m27s\u001b[0m 1s/step - accuracy: 0.7069 - loss: 0.7314 - val_accuracy: 0.5517 - val_loss: 1.1542 - learning_rate: 0.0020\n",
      "Epoch 27/50\n",
      "\u001b[1m21/21\u001b[0m \u001b[32m━━━━━━━━━━━━━━━━━━━━\u001b[0m\u001b[37m\u001b[0m \u001b[1m27s\u001b[0m 1s/step - accuracy: 0.6994 - loss: 0.7313 - val_accuracy: 0.6400 - val_loss: 0.8969 - learning_rate: 0.0018\n",
      "Epoch 28/50\n",
      "\u001b[1m21/21\u001b[0m \u001b[32m━━━━━━━━━━━━━━━━━━━━\u001b[0m\u001b[37m\u001b[0m \u001b[1m27s\u001b[0m 1s/step - accuracy: 0.7091 - loss: 0.7170 - val_accuracy: 0.6233 - val_loss: 0.9731 - learning_rate: 0.0017\n",
      "Epoch 29/50\n",
      "\u001b[1m21/21\u001b[0m \u001b[32m━━━━━━━━━━━━━━━━━━━━\u001b[0m\u001b[37m\u001b[0m \u001b[1m26s\u001b[0m 1s/step - accuracy: 0.7196 - loss: 0.7108 - val_accuracy: 0.5133 - val_loss: 1.2518 - learning_rate: 0.0015\n",
      "Epoch 30/50\n",
      "\u001b[1m21/21\u001b[0m \u001b[32m━━━━━━━━━━━━━━━━━━━━\u001b[0m\u001b[37m\u001b[0m \u001b[1m26s\u001b[0m 1s/step - accuracy: 0.7016 - loss: 0.7190 - val_accuracy: 0.5183 - val_loss: 1.1975 - learning_rate: 0.0014\n",
      "Epoch 31/50\n",
      "\u001b[1m21/21\u001b[0m \u001b[32m━━━━━━━━━━━━━━━━━━━━\u001b[0m\u001b[37m\u001b[0m \u001b[1m28s\u001b[0m 1s/step - accuracy: 0.7110 - loss: 0.7240 - val_accuracy: 0.5400 - val_loss: 1.1179 - learning_rate: 0.0012\n",
      "Epoch 32/50\n",
      "\u001b[1m21/21\u001b[0m \u001b[32m━━━━━━━━━━━━━━━━━━━━\u001b[0m\u001b[37m\u001b[0m \u001b[1m31s\u001b[0m 1s/step - accuracy: 0.7143 - loss: 0.6859 - val_accuracy: 0.6400 - val_loss: 0.9072 - learning_rate: 0.0011\n",
      "Epoch 33/50\n",
      "\u001b[1m21/21\u001b[0m \u001b[32m━━━━━━━━━━━━━━━━━━━━\u001b[0m\u001b[37m\u001b[0m \u001b[1m27s\u001b[0m 1s/step - accuracy: 0.7066 - loss: 0.7091 - val_accuracy: 0.6283 - val_loss: 0.8701 - learning_rate: 0.0010\n",
      "Epoch 34/50\n",
      "\u001b[1m21/21\u001b[0m \u001b[32m━━━━━━━━━━━━━━━━━━━━\u001b[0m\u001b[37m\u001b[0m \u001b[1m27s\u001b[0m 1s/step - accuracy: 0.6966 - loss: 0.7217 - val_accuracy: 0.6483 - val_loss: 0.8454 - learning_rate: 9.0718e-04\n",
      "Epoch 35/50\n",
      "\u001b[1m21/21\u001b[0m \u001b[32m━━━━━━━━━━━━━━━━━━━━\u001b[0m\u001b[37m\u001b[0m \u001b[1m27s\u001b[0m 1s/step - accuracy: 0.7188 - loss: 0.6909 - val_accuracy: 0.6767 - val_loss: 0.8089 - learning_rate: 8.2085e-04\n",
      "Epoch 36/50\n",
      "\u001b[1m21/21\u001b[0m \u001b[32m━━━━━━━━━━━━━━━━━━━━\u001b[0m\u001b[37m\u001b[0m \u001b[1m28s\u001b[0m 1s/step - accuracy: 0.7231 - loss: 0.7090 - val_accuracy: 0.6633 - val_loss: 0.7847 - learning_rate: 7.4273e-04\n",
      "Epoch 37/50\n",
      "\u001b[1m21/21\u001b[0m \u001b[32m━━━━━━━━━━━━━━━━━━━━\u001b[0m\u001b[37m\u001b[0m \u001b[1m28s\u001b[0m 1s/step - accuracy: 0.7166 - loss: 0.7088 - val_accuracy: 0.6733 - val_loss: 0.7666 - learning_rate: 6.7205e-04\n",
      "Epoch 38/50\n",
      "\u001b[1m21/21\u001b[0m \u001b[32m━━━━━━━━━━━━━━━━━━━━\u001b[0m\u001b[37m\u001b[0m \u001b[1m26s\u001b[0m 1s/step - accuracy: 0.7124 - loss: 0.7123 - val_accuracy: 0.6850 - val_loss: 0.7845 - learning_rate: 6.0810e-04\n",
      "Epoch 39/50\n",
      "\u001b[1m21/21\u001b[0m \u001b[32m━━━━━━━━━━━━━━━━━━━━\u001b[0m\u001b[37m\u001b[0m \u001b[1m26s\u001b[0m 1s/step - accuracy: 0.7150 - loss: 0.6973 - val_accuracy: 0.6833 - val_loss: 0.7547 - learning_rate: 5.5023e-04\n",
      "Epoch 40/50\n",
      "\u001b[1m21/21\u001b[0m \u001b[32m━━━━━━━━━━━━━━━━━━━━\u001b[0m\u001b[37m\u001b[0m \u001b[1m26s\u001b[0m 1s/step - accuracy: 0.7283 - loss: 0.6919 - val_accuracy: 0.6917 - val_loss: 0.7571 - learning_rate: 4.9787e-04\n",
      "Epoch 41/50\n",
      "\u001b[1m21/21\u001b[0m \u001b[32m━━━━━━━━━━━━━━━━━━━━\u001b[0m\u001b[37m\u001b[0m \u001b[1m26s\u001b[0m 1s/step - accuracy: 0.7147 - loss: 0.7075 - val_accuracy: 0.6933 - val_loss: 0.7540 - learning_rate: 4.5049e-04\n",
      "Epoch 42/50\n",
      "\u001b[1m21/21\u001b[0m \u001b[32m━━━━━━━━━━━━━━━━━━━━\u001b[0m\u001b[37m\u001b[0m \u001b[1m27s\u001b[0m 1s/step - accuracy: 0.7106 - loss: 0.6980 - val_accuracy: 0.6967 - val_loss: 0.7495 - learning_rate: 4.0762e-04\n",
      "Epoch 43/50\n",
      "\u001b[1m21/21\u001b[0m \u001b[32m━━━━━━━━━━━━━━━━━━━━\u001b[0m\u001b[37m\u001b[0m \u001b[1m26s\u001b[0m 1s/step - accuracy: 0.7064 - loss: 0.7005 - val_accuracy: 0.6933 - val_loss: 0.7748 - learning_rate: 3.6883e-04\n",
      "Epoch 44/50\n",
      "\u001b[1m21/21\u001b[0m \u001b[32m━━━━━━━━━━━━━━━━━━━━\u001b[0m\u001b[37m\u001b[0m \u001b[1m26s\u001b[0m 1s/step - accuracy: 0.7220 - loss: 0.6973 - val_accuracy: 0.6950 - val_loss: 0.7469 - learning_rate: 3.3373e-04\n",
      "Epoch 45/50\n",
      "\u001b[1m21/21\u001b[0m \u001b[32m━━━━━━━━━━━━━━━━━━━━\u001b[0m\u001b[37m\u001b[0m \u001b[1m26s\u001b[0m 1s/step - accuracy: 0.7020 - loss: 0.7047 - val_accuracy: 0.6950 - val_loss: 0.7735 - learning_rate: 3.0197e-04\n",
      "Epoch 46/50\n",
      "\u001b[1m21/21\u001b[0m \u001b[32m━━━━━━━━━━━━━━━━━━━━\u001b[0m\u001b[37m\u001b[0m \u001b[1m26s\u001b[0m 1s/step - accuracy: 0.7244 - loss: 0.6809 - val_accuracy: 0.6983 - val_loss: 0.7697 - learning_rate: 2.7324e-04\n",
      "Epoch 47/50\n",
      "\u001b[1m21/21\u001b[0m \u001b[32m━━━━━━━━━━━━━━━━━━━━\u001b[0m\u001b[37m\u001b[0m \u001b[1m26s\u001b[0m 1s/step - accuracy: 0.7049 - loss: 0.7199 - val_accuracy: 0.6950 - val_loss: 0.7576 - learning_rate: 2.4723e-04\n",
      "Epoch 48/50\n",
      "\u001b[1m21/21\u001b[0m \u001b[32m━━━━━━━━━━━━━━━━━━━━\u001b[0m\u001b[37m\u001b[0m \u001b[1m26s\u001b[0m 1s/step - accuracy: 0.7190 - loss: 0.6915 - val_accuracy: 0.6900 - val_loss: 0.7684 - learning_rate: 2.2371e-04\n",
      "Epoch 49/50\n",
      "\u001b[1m21/21\u001b[0m \u001b[32m━━━━━━━━━━━━━━━━━━━━\u001b[0m\u001b[37m\u001b[0m \u001b[1m26s\u001b[0m 1s/step - accuracy: 0.7328 - loss: 0.6766 - val_accuracy: 0.6950 - val_loss: 0.7597 - learning_rate: 2.0242e-04\n",
      "Epoch 50/50\n",
      "\u001b[1m21/21\u001b[0m \u001b[32m━━━━━━━━━━━━━━━━━━━━\u001b[0m\u001b[37m\u001b[0m \u001b[1m26s\u001b[0m 1s/step - accuracy: 0.7104 - loss: 0.7027 - val_accuracy: 0.6983 - val_loss: 0.7770 - learning_rate: 1.8316e-04\n",
      "The training of the Transfer Learning model took 23 minutes.\n"
     ]
    }
   ],
   "source": [
    "import time\n",
    "start_time = time.time()\n",
    "\n",
    "history = model.fit(\n",
    "    train_gen,\n",
    "    epochs=50,\n",
    "    validation_data=valid_gen,\n",
    "    callbacks=[lr_scheduler, model_checkpoint_callback]\n",
    ")\n",
    "\n",
    "end_time = time.time()\n",
    "\n",
    "print('The training of the Transfer Learning model took',round((end_time-start_time)/60),'minutes.')"
   ]
  },
  {
   "cell_type": "code",
   "execution_count": 88,
   "metadata": {
    "colab": {
     "base_uri": "https://localhost:8080/"
    },
    "id": "biNJpUZ1crq-",
    "outputId": "78693438-17e2-48af-a17d-eed8bd92139b"
   },
   "outputs": [
    {
     "name": "stdout",
     "output_type": "stream",
     "text": [
      "\u001b[1m38/38\u001b[0m \u001b[32m━━━━━━━━━━━━━━━━━━━━\u001b[0m\u001b[37m\u001b[0m \u001b[1m27s\u001b[0m 428ms/step - accuracy: 0.7601 - loss: 0.6082\n",
      "Test Loss: 0.6608\n",
      "Test Accuracy: 74.5%\n"
     ]
    }
   ],
   "source": [
    "# val_loss, val_accuracy = model.evaluate(x_test, y_test)\n",
    "best_model = tf.keras.models.load_model('ckpt/checkpoint.model.keras')\n",
    "test_loss, test_accuracy = best_model.evaluate(\n",
    "    test_gen,\n",
    ")\n",
    "\n",
    "print(f\"Test Loss: {round(test_loss,4)}\")\n",
    "print(f\"Test Accuracy: {round(100*test_accuracy,2)}%\")\n"
   ]
  },
  {
   "cell_type": "code",
   "execution_count": 83,
   "metadata": {
    "colab": {
     "base_uri": "https://localhost:8080/"
    },
    "id": "QB1tgKlSygyf",
    "outputId": "be9b79b5-afb1-4636-c634-c2f0b8578244"
   },
   "outputs": [
    {
     "name": "stdout",
     "output_type": "stream",
     "text": [
      "{'accuracy': [0.46309614181518555, 0.5490158796310425, 0.5880014896392822, 0.60370934009552, 0.6144965887069702, 0.6356926560401917, 0.6417486667633057, 0.6491294503211975, 0.6669189929962158, 0.663133978843689, 0.658024251461029, 0.6693792343139648, 0.6633232235908508, 0.6778955459594727, 0.6722180247306824, 0.6907645463943481, 0.6847085356712341, 0.6831945776939392, 0.6871688365936279, 0.6850870847702026, 0.694549560546875, 0.6936033368110657, 0.7057153582572937, 0.6886827945709229, 0.7040120959281921, 0.7055261135101318, 0.7000378370285034, 0.7087433934211731, 0.713853120803833, 0.7079863548278809, 0.7057153582572937, 0.7108251452445984, 0.7066616415977478, 0.7024980783462524, 0.7161241769790649, 0.717448890209198, 0.7161241769790649, 0.7180166244506836, 0.7151778936386108, 0.724640429019928, 0.7214231491088867, 0.7117713689804077, 0.7146101593971252, 0.7219909429550171, 0.708932638168335, 0.7117713689804077, 0.7159348726272583, 0.7193413972854614, 0.7219909429550171, 0.711392879486084], 'loss': [1.3133727312088013, 1.0302345752716064, 0.974261462688446, 0.9366498589515686, 0.9050326347351074, 0.8613021373748779, 0.8610507845878601, 0.850058376789093, 0.8156754970550537, 0.8154228329658508, 0.815356433391571, 0.8048058748245239, 0.8089436888694763, 0.7995546460151672, 0.7905615568161011, 0.7588101029396057, 0.7774477005004883, 0.7809417247772217, 0.7703568935394287, 0.7728579044342041, 0.7596099376678467, 0.7514814138412476, 0.7367756366729736, 0.7474504709243774, 0.7294374108314514, 0.7278462052345276, 0.7269632816314697, 0.7182441353797913, 0.7167315483093262, 0.716318666934967, 0.7199159264564514, 0.6995033025741577, 0.710066556930542, 0.7143404483795166, 0.6958178281784058, 0.7057066559791565, 0.7176800966262817, 0.711814284324646, 0.7001068592071533, 0.6928969025611877, 0.7011930346488953, 0.7026575803756714, 0.6997013688087463, 0.6928748488426208, 0.7049755454063416, 0.6958327293395996, 0.6979150176048279, 0.6886678338050842, 0.6983681917190552, 0.7009611129760742], 'val_accuracy': [0.3499999940395355, 0.3766666650772095, 0.36666667461395264, 0.36000001430511475, 0.41999998688697815, 0.6200000047683716, 0.47833332419395447, 0.5166666507720947, 0.4833333194255829, 0.5199999809265137, 0.39666667580604553, 0.3316666781902313, 0.41999998688697815, 0.4633333384990692, 0.4983333349227905, 0.57833331823349, 0.5049999952316284, 0.57833331823349, 0.6499999761581421, 0.4300000071525574, 0.4516666531562805, 0.4266666769981384, 0.5233333110809326, 0.5233333110809326, 0.57833331823349, 0.5516666769981384, 0.6399999856948853, 0.6233333349227905, 0.5133333206176758, 0.5183333158493042, 0.5400000214576721, 0.6399999856948853, 0.628333330154419, 0.6483333110809326, 0.6766666769981384, 0.6633333563804626, 0.6733333468437195, 0.6850000023841858, 0.6833333373069763, 0.6916666626930237, 0.6933333277702332, 0.6966666579246521, 0.6933333277702332, 0.6949999928474426, 0.6949999928474426, 0.6983333230018616, 0.6949999928474426, 0.6899999976158142, 0.6949999928474426, 0.6983333230018616], 'val_loss': [9.252379417419434, 7.295101642608643, 8.43712329864502, 7.297674179077148, 3.15553879737854, 1.1058019399642944, 1.951531171798706, 2.017223596572876, 2.3976387977600098, 1.6903516054153442, 2.3892982006073, 3.250110626220703, 2.584759473800659, 1.7731372117996216, 1.791650652885437, 1.216892957687378, 1.6528962850570679, 1.5882824659347534, 1.0092006921768188, 1.557648777961731, 1.937652587890625, 2.0840349197387695, 1.1325459480285645, 1.2093565464019775, 1.035790205001831, 1.1541579961776733, 0.8969445824623108, 0.9730627536773682, 1.2517820596694946, 1.197526216506958, 1.1178542375564575, 0.9071924090385437, 0.8700525164604187, 0.845370352268219, 0.8088817000389099, 0.784674882888794, 0.766610324382782, 0.7845465540885925, 0.7547142505645752, 0.757093071937561, 0.7539763450622559, 0.7495307922363281, 0.7748488187789917, 0.7469322085380554, 0.7735127806663513, 0.7697218060493469, 0.7575600147247314, 0.7683659791946411, 0.759671151638031, 0.7770261764526367], 'learning_rate': [0.009999999776482582, 0.009999999776482582, 0.009999999776482582, 0.009999999776482582, 0.009999999776482582, 0.009999999776482582, 0.009999999776482582, 0.009999999776482582, 0.009999999776482582, 0.009999999776482582, 0.009048373438417912, 0.008187306113541126, 0.0074081807397305965, 0.00670319888740778, 0.006065304856747389, 0.005488114431500435, 0.004965851083397865, 0.004493287764489651, 0.0040656947530806065, 0.0036787926219403744, 0.0033287089318037033, 0.0030119402799755335, 0.00272531621158123, 0.002465968020260334, 0.0022313001099973917, 0.002018963685259223, 0.0018268338171765208, 0.001652987557463348, 0.0014956849627196789, 0.0013533516321331263, 0.0012245631078258157, 0.0011080304393544793, 0.001002587378025055, 0.0009071785025298595, 0.0008208490326069295, 0.0007427348755300045, 0.0006720542442053556, 0.0006080997991375625, 0.0005502314306795597, 0.0004978699726052582, 0.00045049135223962367, 0.0004076214099768549, 0.0003688310971483588, 0.00033373216865584254, 0.0003019733412656933, 0.0002732367720454931, 0.0002472348278388381, 0.0002237073058495298, 0.0002024187269853428, 0.00018315602210350335]}\n"
     ]
    }
   ],
   "source": [
    "print(history.history)"
   ]
  },
  {
   "cell_type": "code",
   "execution_count": 84,
   "metadata": {
    "colab": {
     "base_uri": "https://localhost:8080/",
     "height": 472
    },
    "id": "HikbqlLqcy_w",
    "outputId": "490259fe-0cd7-4dda-c911-aef3c3c732f5"
   },
   "outputs": [
    {
     "data": {
      "image/png": "[encoded data removed]",
      "text/plain": [
       "<Figure size 640x480 with 1 Axes>"
      ]
     },
     "metadata": {},
     "output_type": "display_data"
    }
   ],
   "source": [
    "plt.plot(history.history['loss'], label='Training Loss')\n",
    "plt.plot(history.history['val_loss'], label='Validation Loss')\n",
    "plt.plot(history.history[\"accuracy\"],label='Accuracy' ,c=\"green\")\n",
    "plt.title(\"Loss and Accuracy in the Transfer Learning Model\")\n",
    "plt.ylabel(\"Loss/Accuracy\")\n",
    "plt.xlabel(\"Epochs\")\n",
    "plt.legend()\n",
    "plt.show()\n"
   ]
  },
  {
   "cell_type": "code",
   "execution_count": 89,
   "metadata": {
    "id": "GOlJTHFwc3VE"
   },
   "outputs": [
    {
     "name": "stdout",
     "output_type": "stream",
     "text": [
      "\u001b[1m38/38\u001b[0m \u001b[32m━━━━━━━━━━━━━━━━━━━━\u001b[0m\u001b[37m\u001b[0m \u001b[1m34s\u001b[0m 711ms/step\n"
     ]
    }
   ],
   "source": [
    "from sklearn.metrics import confusion_matrix, ConfusionMatrixDisplay\n",
    "\n",
    "predicted_labels = np.argmax(best_model.predict(test_gen),axis=1)"
   ]
  },
  {
   "cell_type": "code",
   "execution_count": 90,
   "metadata": {},
   "outputs": [
    {
     "data": {
      "image/png": "[encoded data removed]",
      "text/plain": [
       "<Figure size 800x600 with 2 Axes>"
      ]
     },
     "metadata": {},
     "output_type": "display_data"
    }
   ],
   "source": [
    "import seaborn as sns\n",
    "\n",
    "true_labels = test_gen.classes\n",
    "\n",
    "cm = confusion_matrix(true_labels, predicted_labels)\n",
    "\n",
    "# Step 4: Plot the confusion matrix using Seaborn\n",
    "plt.figure(figsize=(8, 6))\n",
    "sns.heatmap(cm, annot=True, fmt='d', cmap='Blues', xticklabels=test_gen.class_indices.keys(), yticklabels=test_gen.class_indices.keys())\n",
    "plt.xlabel('Predicted Labels')\n",
    "plt.ylabel('True Labels')\n",
    "plt.title('Confusion Matrix')\n",
    "plt.show()\n"
   ]
  }
 ],
 "metadata": {
  "accelerator": "GPU",
  "colab": {
   "gpuType": "T4",
   "provenance": []
  },
  "kernelspec": {
   "display_name": "Python 3",
   "name": "python3"
  },
  "language_info": {
   "codemirror_mode": {
    "name": "ipython",
    "version": 3
   },
   "file_extension": ".py",
   "mimetype": "text/x-python",
   "name": "python",
   "nbconvert_exporter": "python",
   "pygments_lexer": "ipython3",
   "version": "3.12.0"
  }
 },
 "nbformat": 4,
 "nbformat_minor": 0
}
