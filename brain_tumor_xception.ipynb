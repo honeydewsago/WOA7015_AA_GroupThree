{
 "cells": [
  {
   "cell_type": "code",
   "execution_count": 9,
   "metadata": {
    "id": "OTsDGhNGcIQw"
   },
   "outputs": [],
   "source": [
    "import numpy as np\n",
    "import matplotlib.pyplot as plt\n",
    "import cv2\n",
    "import os\n",
    "import random\n",
    "import pandas as pd\n",
    "import tensorflow as tf\n",
    "from tensorflow.keras.applications import Xception\n",
    "from tensorflow.keras.layers import GlobalAveragePooling2D, AveragePooling2D, Dense, MaxPooling2D, GlobalMaxPooling2D, Flatten, Dropout, BatchNormalization, Reshape, Multiply\n",
    "from tensorflow.keras.models import Sequential\n",
    "from tensorflow.keras.optimizers import Adam\n",
    "from sklearn.model_selection import train_test_split\n",
    "from tensorflow.keras.utils import to_categorical\n",
    "from tensorflow.keras.callbacks import LearningRateScheduler, ReduceLROnPlateau"
   ]
  },
  {
   "cell_type": "code",
   "execution_count": 10,
   "metadata": {},
   "outputs": [],
   "source": [
    "def train_df(tr_path):\n",
    "    classes, class_paths = zip(*[(label, os.path.join(tr_path, label, image))\n",
    "                                 for label in os.listdir(tr_path) if os.path.isdir(os.path.join(tr_path, label))\n",
    "                                 for image in os.listdir(os.path.join(tr_path, label))])\n",
    "\n",
    "    tr_df = pd.DataFrame({'Class Path': class_paths, 'Class': classes})\n",
    "    return tr_df\n",
    "\n",
    "def test_df(ts_path):\n",
    "    classes, class_paths = zip(*[(label, os.path.join(ts_path, label, image))\n",
    "                                 for label in os.listdir(ts_path) if os.path.isdir(os.path.join(ts_path, label))\n",
    "                                 for image in os.listdir(os.path.join(ts_path, label))])\n",
    "\n",
    "    ts_df = pd.DataFrame({'Class Path': class_paths, 'Class': classes})\n",
    "    return ts_df\n",
    "\n",
    "def scheduler(epoch, lr):\n",
    "    if epoch < 10:\n",
    "        return lr\n",
    "    else:\n",
    "        return float(lr * tf.math.exp(-0.1))\n",
    "\n",
    "# Define SEBlock\n",
    "class SEBlock(tf.keras.layers.Layer):\n",
    "    def __init__(self, reduction_ratio=16, **kwargs):\n",
    "        super(SEBlock, self).__init__(**kwargs)\n",
    "        self.reduction_ratio = reduction_ratio\n",
    "\n",
    "    def build(self, input_shape):\n",
    "        self.global_avg_pool = GlobalAveragePooling2D()\n",
    "        self.dense1 = Dense(input_shape[-1] // self.reduction_ratio, activation='relu', kernel_initializer='he_normal', use_bias=False)\n",
    "        self.dense2 = Dense(input_shape[-1], activation='sigmoid', kernel_initializer='he_normal', use_bias=False)\n",
    "        self.reshape = Reshape((1, 1, input_shape[-1]))\n",
    "        self.multiply = Multiply()\n",
    "\n",
    "    def call(self, inputs):\n",
    "        se = self.global_avg_pool(inputs)\n",
    "        se = self.dense1(se)\n",
    "        se = self.dense2(se)\n",
    "        se = self.reshape(se)\n",
    "        return self.multiply([inputs, se])\n",
    "\n",
    "    def get_config(self):\n",
    "        config = super(SEBlock, self).get_config()\n",
    "        config.update({\"reduction_ratio\": self.reduction_ratio})\n",
    "        return config"
   ]
  },
  {
   "cell_type": "code",
   "execution_count": 11,
   "metadata": {
    "id": "BeDA3j6VcJCP"
   },
   "outputs": [],
   "source": [
    "# train_path = '/content/drive/MyDrive/Colab Notebooks/brain_tumor_detection/brain_tumor_dataset/Training'\n",
    "# test_path = '/content/drive/MyDrive/Colab Notebooks/brain_tumor_detection/brain_tumor_dataset/Testing'\n",
    "train_path = 'brain_tumor_dataset/Training_balanced'\n",
    "test_path = 'brain_tumor_dataset/Testing_balanced'"
   ]
  },
  {
   "cell_type": "code",
   "execution_count": 12,
   "metadata": {},
   "outputs": [
    {
     "data": {
      "text/html": [
       "<div>\n",
       "<style scoped>\n",
       "    .dataframe tbody tr th:only-of-type {\n",
       "        vertical-align: middle;\n",
       "    }\n",
       "\n",
       "    .dataframe tbody tr th {\n",
       "        vertical-align: top;\n",
       "    }\n",
       "\n",
       "    .dataframe thead th {\n",
       "        text-align: right;\n",
       "    }\n",
       "</style>\n",
       "<table border=\"1\" class=\"dataframe\">\n",
       "  <thead>\n",
       "    <tr style=\"text-align: right;\">\n",
       "      <th></th>\n",
       "      <th>Class Path</th>\n",
       "      <th>Class</th>\n",
       "    </tr>\n",
       "  </thead>\n",
       "  <tbody>\n",
       "    <tr>\n",
       "      <th>1116</th>\n",
       "      <td>brain_tumor_dataset/Testing_balanced/meningiom...</td>\n",
       "      <td>meningioma</td>\n",
       "    </tr>\n",
       "    <tr>\n",
       "      <th>917</th>\n",
       "      <td>brain_tumor_dataset/Testing_balanced/meningiom...</td>\n",
       "      <td>meningioma</td>\n",
       "    </tr>\n",
       "    <tr>\n",
       "      <th>195</th>\n",
       "      <td>brain_tumor_dataset/Testing_balanced/pituitary...</td>\n",
       "      <td>pituitary</td>\n",
       "    </tr>\n",
       "    <tr>\n",
       "      <th>455</th>\n",
       "      <td>brain_tumor_dataset/Testing_balanced/notumor/T...</td>\n",
       "      <td>notumor</td>\n",
       "    </tr>\n",
       "    <tr>\n",
       "      <th>861</th>\n",
       "      <td>brain_tumor_dataset/Testing_balanced/glioma/Te...</td>\n",
       "      <td>glioma</td>\n",
       "    </tr>\n",
       "    <tr>\n",
       "      <th>...</th>\n",
       "      <td>...</td>\n",
       "      <td>...</td>\n",
       "    </tr>\n",
       "    <tr>\n",
       "      <th>121</th>\n",
       "      <td>brain_tumor_dataset/Testing_balanced/pituitary...</td>\n",
       "      <td>pituitary</td>\n",
       "    </tr>\n",
       "    <tr>\n",
       "      <th>118</th>\n",
       "      <td>brain_tumor_dataset/Testing_balanced/pituitary...</td>\n",
       "      <td>pituitary</td>\n",
       "    </tr>\n",
       "    <tr>\n",
       "      <th>415</th>\n",
       "      <td>brain_tumor_dataset/Testing_balanced/notumor/T...</td>\n",
       "      <td>notumor</td>\n",
       "    </tr>\n",
       "    <tr>\n",
       "      <th>341</th>\n",
       "      <td>brain_tumor_dataset/Testing_balanced/notumor/T...</td>\n",
       "      <td>notumor</td>\n",
       "    </tr>\n",
       "    <tr>\n",
       "      <th>308</th>\n",
       "      <td>brain_tumor_dataset/Testing_balanced/notumor/T...</td>\n",
       "      <td>notumor</td>\n",
       "    </tr>\n",
       "  </tbody>\n",
       "</table>\n",
       "<p>600 rows × 2 columns</p>\n",
       "</div>"
      ],
      "text/plain": [
       "                                             Class Path       Class\n",
       "1116  brain_tumor_dataset/Testing_balanced/meningiom...  meningioma\n",
       "917   brain_tumor_dataset/Testing_balanced/meningiom...  meningioma\n",
       "195   brain_tumor_dataset/Testing_balanced/pituitary...   pituitary\n",
       "455   brain_tumor_dataset/Testing_balanced/notumor/T...     notumor\n",
       "861   brain_tumor_dataset/Testing_balanced/glioma/Te...      glioma\n",
       "...                                                 ...         ...\n",
       "121   brain_tumor_dataset/Testing_balanced/pituitary...   pituitary\n",
       "118   brain_tumor_dataset/Testing_balanced/pituitary...   pituitary\n",
       "415   brain_tumor_dataset/Testing_balanced/notumor/T...     notumor\n",
       "341   brain_tumor_dataset/Testing_balanced/notumor/T...     notumor\n",
       "308   brain_tumor_dataset/Testing_balanced/notumor/T...     notumor\n",
       "\n",
       "[600 rows x 2 columns]"
      ]
     },
     "execution_count": 12,
     "metadata": {},
     "output_type": "execute_result"
    }
   ],
   "source": [
    "train_df = train_df(train_path)\n",
    "test_df = test_df(test_path)\n",
    "valid_df, test_df = train_test_split(test_df, train_size=0.5, random_state=20, stratify=test_df['Class'])\n",
    "valid_df"
   ]
  },
  {
   "cell_type": "code",
   "execution_count": 13,
   "metadata": {
    "id": "KSXZMlc3mdbI"
   },
   "outputs": [
    {
     "name": "stdout",
     "output_type": "stream",
     "text": [
      "Found 5284 validated image filenames belonging to 4 classes.\n",
      "Found 600 validated image filenames belonging to 4 classes.\n",
      "Found 600 validated image filenames belonging to 4 classes.\n"
     ]
    }
   ],
   "source": [
    "from tensorflow.keras.preprocessing.image import ImageDataGenerator\n",
    "\n",
    "batch_size = 256\n",
    "img_size = (224, 224)\n",
    "\n",
    "_gen = ImageDataGenerator(\n",
    "    rescale=1.0/255.0,\n",
    "    rotation_range=20,\n",
    "    width_shift_range=0.2,\n",
    "    height_shift_range=0.2,\n",
    "    shear_range=0.2,\n",
    "    zoom_range=0.2,\n",
    "    horizontal_flip=True,\n",
    "    fill_mode='nearest'\n",
    ")\n",
    "\n",
    "test_gen = ImageDataGenerator(rescale=1/255)\n",
    "\n",
    "\n",
    "train_gen = _gen.flow_from_dataframe(train_df, x_col='Class Path',\n",
    "                                  y_col='Class', batch_size=batch_size,\n",
    "                                  target_size=img_size)\n",
    "\n",
    "valid_gen = test_gen.flow_from_dataframe(valid_df, x_col='Class Path',\n",
    "                                     y_col='Class', batch_size=batch_size,\n",
    "                                     target_size=img_size)\n",
    "\n",
    "test_gen = test_gen.flow_from_dataframe(test_df, x_col='Class Path',\n",
    "                                  y_col='Class', batch_size=16,\n",
    "                                  target_size=img_size, shuffle=False)"
   ]
  },
  {
   "cell_type": "code",
   "execution_count": 14,
   "metadata": {
    "colab": {
     "base_uri": "https://localhost:8080/",
     "height": 162
    },
    "id": "M5QT_yB9rhXi",
    "outputId": "9c5b47d0-ee44-4a0b-ee10-b9ba8ca5eb68"
   },
   "outputs": [
    {
     "name": "stdout",
     "output_type": "stream",
     "text": [
      "Training samples: 5284\n",
      "Validation samples: 600\n",
      "Validation samples: 600\n"
     ]
    }
   ],
   "source": [
    "print(f\"Training samples: {train_gen.samples}\")\n",
    "print(f\"Validation samples: {test_gen.samples}\")\n",
    "print(f\"Validation samples: {valid_gen.samples}\")"
   ]
  },
  {
   "cell_type": "code",
   "execution_count": 15,
   "metadata": {
    "colab": {
     "base_uri": "https://localhost:8080/",
     "height": 250
    },
    "id": "WtvXy4HZckzN",
    "outputId": "c9a715d9-e935-420f-ed19-fb6fb1e8e02f"
   },
   "outputs": [
    {
     "name": "stderr",
     "output_type": "stream",
     "text": [
      "2025-01-09 19:24:57.051888: I metal_plugin/src/device/metal_device.cc:1154] Metal device set to: Apple M2 Pro\n",
      "2025-01-09 19:24:57.051908: I metal_plugin/src/device/metal_device.cc:296] systemMemory: 16.00 GB\n",
      "2025-01-09 19:24:57.051914: I metal_plugin/src/device/metal_device.cc:313] maxCacheSize: 5.33 GB\n",
      "2025-01-09 19:24:57.051929: I tensorflow/core/common_runtime/pluggable_device/pluggable_device_factory.cc:305] Could not identify NUMA node of platform GPU ID 0, defaulting to 0. Your kernel may not have been built with NUMA support.\n",
      "2025-01-09 19:24:57.051941: I tensorflow/core/common_runtime/pluggable_device/pluggable_device_factory.cc:271] Created TensorFlow device (/job:localhost/replica:0/task:0/device:GPU:0 with 0 MB memory) -> physical PluggableDevice (device: 0, name: METAL, pci bus id: <undefined>)\n"
     ]
    },
    {
     "name": "stdout",
     "output_type": "stream",
     "text": [
      "Downloading data from https://storage.googleapis.com/tensorflow/keras-applications/xception/xception_weights_tf_dim_ordering_tf_kernels_notop.h5\n",
      "\u001b[1m83683744/83683744\u001b[0m \u001b[32m━━━━━━━━━━━━━━━━━━━━\u001b[0m\u001b[37m\u001b[0m \u001b[1m6s\u001b[0m 0us/step\n"
     ]
    },
    {
     "data": {
      "text/html": [
       "<pre style=\"white-space:pre;overflow-x:auto;line-height:normal;font-family:Menlo,'DejaVu Sans Mono',consolas,'Courier New',monospace\"><span style=\"font-weight: bold\">Model: \"sequential\"</span>\n",
       "</pre>\n"
      ],
      "text/plain": [
       "\u001b[1mModel: \"sequential\"\u001b[0m\n"
      ]
     },
     "metadata": {},
     "output_type": "display_data"
    },
    {
     "data": {
      "text/html": [
       "<pre style=\"white-space:pre;overflow-x:auto;line-height:normal;font-family:Menlo,'DejaVu Sans Mono',consolas,'Courier New',monospace\">┏━━━━━━━━━━━━━━━━━━━━━━━━━━━━━━━━━┳━━━━━━━━━━━━━━━━━━━━━━━━┳━━━━━━━━━━━━━━━┓\n",
       "┃<span style=\"font-weight: bold\"> Layer (type)                    </span>┃<span style=\"font-weight: bold\"> Output Shape           </span>┃<span style=\"font-weight: bold\">       Param # </span>┃\n",
       "┡━━━━━━━━━━━━━━━━━━━━━━━━━━━━━━━━━╇━━━━━━━━━━━━━━━━━━━━━━━━╇━━━━━━━━━━━━━━━┩\n",
       "│ xception (<span style=\"color: #0087ff; text-decoration-color: #0087ff\">Functional</span>)           │ (<span style=\"color: #00d7ff; text-decoration-color: #00d7ff\">None</span>, <span style=\"color: #00af00; text-decoration-color: #00af00\">7</span>, <span style=\"color: #00af00; text-decoration-color: #00af00\">7</span>, <span style=\"color: #00af00; text-decoration-color: #00af00\">2048</span>)     │    <span style=\"color: #00af00; text-decoration-color: #00af00\">20,861,480</span> │\n",
       "├─────────────────────────────────┼────────────────────────┼───────────────┤\n",
       "│ average_pooling2d               │ (<span style=\"color: #00d7ff; text-decoration-color: #00d7ff\">None</span>, <span style=\"color: #00af00; text-decoration-color: #00af00\">3</span>, <span style=\"color: #00af00; text-decoration-color: #00af00\">3</span>, <span style=\"color: #00af00; text-decoration-color: #00af00\">2048</span>)     │             <span style=\"color: #00af00; text-decoration-color: #00af00\">0</span> │\n",
       "│ (<span style=\"color: #0087ff; text-decoration-color: #0087ff\">AveragePooling2D</span>)              │                        │               │\n",
       "├─────────────────────────────────┼────────────────────────┼───────────────┤\n",
       "│ flatten (<span style=\"color: #0087ff; text-decoration-color: #0087ff\">Flatten</span>)               │ (<span style=\"color: #00d7ff; text-decoration-color: #00d7ff\">None</span>, <span style=\"color: #00af00; text-decoration-color: #00af00\">18432</span>)          │             <span style=\"color: #00af00; text-decoration-color: #00af00\">0</span> │\n",
       "├─────────────────────────────────┼────────────────────────┼───────────────┤\n",
       "│ dense (<span style=\"color: #0087ff; text-decoration-color: #0087ff\">Dense</span>)                   │ (<span style=\"color: #00d7ff; text-decoration-color: #00d7ff\">None</span>, <span style=\"color: #00af00; text-decoration-color: #00af00\">256</span>)            │     <span style=\"color: #00af00; text-decoration-color: #00af00\">4,718,848</span> │\n",
       "├─────────────────────────────────┼────────────────────────┼───────────────┤\n",
       "│ batch_normalization_4           │ (<span style=\"color: #00d7ff; text-decoration-color: #00d7ff\">None</span>, <span style=\"color: #00af00; text-decoration-color: #00af00\">256</span>)            │         <span style=\"color: #00af00; text-decoration-color: #00af00\">1,024</span> │\n",
       "│ (<span style=\"color: #0087ff; text-decoration-color: #0087ff\">BatchNormalization</span>)            │                        │               │\n",
       "├─────────────────────────────────┼────────────────────────┼───────────────┤\n",
       "│ dense_1 (<span style=\"color: #0087ff; text-decoration-color: #0087ff\">Dense</span>)                 │ (<span style=\"color: #00d7ff; text-decoration-color: #00d7ff\">None</span>, <span style=\"color: #00af00; text-decoration-color: #00af00\">256</span>)            │        <span style=\"color: #00af00; text-decoration-color: #00af00\">65,792</span> │\n",
       "├─────────────────────────────────┼────────────────────────┼───────────────┤\n",
       "│ batch_normalization_5           │ (<span style=\"color: #00d7ff; text-decoration-color: #00d7ff\">None</span>, <span style=\"color: #00af00; text-decoration-color: #00af00\">256</span>)            │         <span style=\"color: #00af00; text-decoration-color: #00af00\">1,024</span> │\n",
       "│ (<span style=\"color: #0087ff; text-decoration-color: #0087ff\">BatchNormalization</span>)            │                        │               │\n",
       "├─────────────────────────────────┼────────────────────────┼───────────────┤\n",
       "│ dense_2 (<span style=\"color: #0087ff; text-decoration-color: #0087ff\">Dense</span>)                 │ (<span style=\"color: #00d7ff; text-decoration-color: #00d7ff\">None</span>, <span style=\"color: #00af00; text-decoration-color: #00af00\">4</span>)              │         <span style=\"color: #00af00; text-decoration-color: #00af00\">1,028</span> │\n",
       "└─────────────────────────────────┴────────────────────────┴───────────────┘\n",
       "</pre>\n"
      ],
      "text/plain": [
       "┏━━━━━━━━━━━━━━━━━━━━━━━━━━━━━━━━━┳━━━━━━━━━━━━━━━━━━━━━━━━┳━━━━━━━━━━━━━━━┓\n",
       "┃\u001b[1m \u001b[0m\u001b[1mLayer (type)                   \u001b[0m\u001b[1m \u001b[0m┃\u001b[1m \u001b[0m\u001b[1mOutput Shape          \u001b[0m\u001b[1m \u001b[0m┃\u001b[1m \u001b[0m\u001b[1m      Param #\u001b[0m\u001b[1m \u001b[0m┃\n",
       "┡━━━━━━━━━━━━━━━━━━━━━━━━━━━━━━━━━╇━━━━━━━━━━━━━━━━━━━━━━━━╇━━━━━━━━━━━━━━━┩\n",
       "│ xception (\u001b[38;5;33mFunctional\u001b[0m)           │ (\u001b[38;5;45mNone\u001b[0m, \u001b[38;5;34m7\u001b[0m, \u001b[38;5;34m7\u001b[0m, \u001b[38;5;34m2048\u001b[0m)     │    \u001b[38;5;34m20,861,480\u001b[0m │\n",
       "├─────────────────────────────────┼────────────────────────┼───────────────┤\n",
       "│ average_pooling2d               │ (\u001b[38;5;45mNone\u001b[0m, \u001b[38;5;34m3\u001b[0m, \u001b[38;5;34m3\u001b[0m, \u001b[38;5;34m2048\u001b[0m)     │             \u001b[38;5;34m0\u001b[0m │\n",
       "│ (\u001b[38;5;33mAveragePooling2D\u001b[0m)              │                        │               │\n",
       "├─────────────────────────────────┼────────────────────────┼───────────────┤\n",
       "│ flatten (\u001b[38;5;33mFlatten\u001b[0m)               │ (\u001b[38;5;45mNone\u001b[0m, \u001b[38;5;34m18432\u001b[0m)          │             \u001b[38;5;34m0\u001b[0m │\n",
       "├─────────────────────────────────┼────────────────────────┼───────────────┤\n",
       "│ dense (\u001b[38;5;33mDense\u001b[0m)                   │ (\u001b[38;5;45mNone\u001b[0m, \u001b[38;5;34m256\u001b[0m)            │     \u001b[38;5;34m4,718,848\u001b[0m │\n",
       "├─────────────────────────────────┼────────────────────────┼───────────────┤\n",
       "│ batch_normalization_4           │ (\u001b[38;5;45mNone\u001b[0m, \u001b[38;5;34m256\u001b[0m)            │         \u001b[38;5;34m1,024\u001b[0m │\n",
       "│ (\u001b[38;5;33mBatchNormalization\u001b[0m)            │                        │               │\n",
       "├─────────────────────────────────┼────────────────────────┼───────────────┤\n",
       "│ dense_1 (\u001b[38;5;33mDense\u001b[0m)                 │ (\u001b[38;5;45mNone\u001b[0m, \u001b[38;5;34m256\u001b[0m)            │        \u001b[38;5;34m65,792\u001b[0m │\n",
       "├─────────────────────────────────┼────────────────────────┼───────────────┤\n",
       "│ batch_normalization_5           │ (\u001b[38;5;45mNone\u001b[0m, \u001b[38;5;34m256\u001b[0m)            │         \u001b[38;5;34m1,024\u001b[0m │\n",
       "│ (\u001b[38;5;33mBatchNormalization\u001b[0m)            │                        │               │\n",
       "├─────────────────────────────────┼────────────────────────┼───────────────┤\n",
       "│ dense_2 (\u001b[38;5;33mDense\u001b[0m)                 │ (\u001b[38;5;45mNone\u001b[0m, \u001b[38;5;34m4\u001b[0m)              │         \u001b[38;5;34m1,028\u001b[0m │\n",
       "└─────────────────────────────────┴────────────────────────┴───────────────┘\n"
      ]
     },
     "metadata": {},
     "output_type": "display_data"
    },
    {
     "data": {
      "text/html": [
       "<pre style=\"white-space:pre;overflow-x:auto;line-height:normal;font-family:Menlo,'DejaVu Sans Mono',consolas,'Courier New',monospace\"><span style=\"font-weight: bold\"> Total params: </span><span style=\"color: #00af00; text-decoration-color: #00af00\">25,649,196</span> (97.84 MB)\n",
       "</pre>\n"
      ],
      "text/plain": [
       "\u001b[1m Total params: \u001b[0m\u001b[38;5;34m25,649,196\u001b[0m (97.84 MB)\n"
      ]
     },
     "metadata": {},
     "output_type": "display_data"
    },
    {
     "data": {
      "text/html": [
       "<pre style=\"white-space:pre;overflow-x:auto;line-height:normal;font-family:Menlo,'DejaVu Sans Mono',consolas,'Courier New',monospace\"><span style=\"font-weight: bold\"> Trainable params: </span><span style=\"color: #00af00; text-decoration-color: #00af00\">4,786,692</span> (18.26 MB)\n",
       "</pre>\n"
      ],
      "text/plain": [
       "\u001b[1m Trainable params: \u001b[0m\u001b[38;5;34m4,786,692\u001b[0m (18.26 MB)\n"
      ]
     },
     "metadata": {},
     "output_type": "display_data"
    },
    {
     "data": {
      "text/html": [
       "<pre style=\"white-space:pre;overflow-x:auto;line-height:normal;font-family:Menlo,'DejaVu Sans Mono',consolas,'Courier New',monospace\"><span style=\"font-weight: bold\"> Non-trainable params: </span><span style=\"color: #00af00; text-decoration-color: #00af00\">20,862,504</span> (79.58 MB)\n",
       "</pre>\n"
      ],
      "text/plain": [
       "\u001b[1m Non-trainable params: \u001b[0m\u001b[38;5;34m20,862,504\u001b[0m (79.58 MB)\n"
      ]
     },
     "metadata": {},
     "output_type": "display_data"
    },
    {
     "name": "stdout",
     "output_type": "stream",
     "text": [
      "Num GPUs Available:  1\n"
     ]
    }
   ],
   "source": [
    "import ssl\n",
    "ssl._create_default_https_context = ssl._create_unverified_context\n",
    "\n",
    "EPOCHS = 10\n",
    "checkpoint_filepath = './ckpt/checkpoint_xception.model.keras'\n",
    "model_temp = Xception(weights='imagenet', include_top=False, input_shape=(224, 224, 3))\n",
    "model_temp.trainable = False\n",
    "\n",
    "model = Sequential()\n",
    "model.add(model_temp)\n",
    "model.add(AveragePooling2D(pool_size=(2, 2)))\n",
    "# model.add(SEBlock())\n",
    "model.add(Flatten())\n",
    "# model.add(MaxPooling2D(pool_size=(2, 2)))\n",
    "# model.add(Flatten())\n",
    "\n",
    "# Add additional layers\n",
    "# model.add(Dense(256, activation='relu'))\n",
    "# model.add(BatchNormalization())\n",
    "\n",
    "# model.add(Dense(256, activation='relu'))\n",
    "# model.add(BatchNormalization())\n",
    "\n",
    "# model.add(Dropout(0.5))\n",
    "\n",
    "# Output layer\n",
    "model.add(Dense(4, activation='softmax'))\n",
    "optimizer = tf.keras.optimizers.Adam(learning_rate=0.01)\n",
    "model.compile(optimizer=optimizer, loss='categorical_crossentropy', metrics=['accuracy'])\n",
    "\n",
    "lr_scheduler = LearningRateScheduler(scheduler)\n",
    "reduce_lr = ReduceLROnPlateau(monitor='val_loss', factor=0.2,\n",
    "                              patience=5, min_lr=0.001)\n",
    "model_checkpoint_callback = tf.keras.callbacks.ModelCheckpoint(\n",
    "    filepath=checkpoint_filepath,\n",
    "    monitor='val_accuracy',\n",
    "    mode='max',\n",
    "    save_best_only=True)\n",
    "model.summary()\n",
    "\n",
    "print(\"Num GPUs Available: \", len(tf.config.experimental.list_physical_devices('GPU')))"
   ]
  },
  {
   "cell_type": "code",
   "execution_count": 16,
   "metadata": {
    "colab": {
     "base_uri": "https://localhost:8080/"
    },
    "id": "WPPv8UUOcovY",
    "outputId": "5f189eb1-4f49-4002-e726-67baad96e94e"
   },
   "outputs": [
    {
     "name": "stderr",
     "output_type": "stream",
     "text": [
      "/Users/gary/Library/Python/3.9/lib/python/site-packages/keras/src/trainers/data_adapters/py_dataset_adapter.py:121: UserWarning: Your `PyDataset` class should call `super().__init__(**kwargs)` in its constructor. `**kwargs` can include `workers`, `use_multiprocessing`, `max_queue_size`. Do not pass these arguments to `fit()`, as they will be ignored.\n",
      "  self._warn_if_super_not_called()\n"
     ]
    },
    {
     "name": "stdout",
     "output_type": "stream",
     "text": [
      "Epoch 1/50\n"
     ]
    },
    {
     "name": "stderr",
     "output_type": "stream",
     "text": [
      "2025-01-09 19:25:08.005289: I tensorflow/core/grappler/optimizers/custom_graph_optimizer_registry.cc:117] Plugin optimizer for device_type GPU is enabled.\n"
     ]
    },
    {
     "name": "stdout",
     "output_type": "stream",
     "text": [
      "\u001b[1m21/21\u001b[0m \u001b[32m━━━━━━━━━━━━━━━━━━━━\u001b[0m\u001b[37m\u001b[0m \u001b[1m49s\u001b[0m 2s/step - accuracy: 0.6056 - loss: 1.2498 - val_accuracy: 0.7100 - val_loss: 4.6117 - learning_rate: 0.0100\n",
      "Epoch 2/50\n",
      "\u001b[1m21/21\u001b[0m \u001b[32m━━━━━━━━━━━━━━━━━━━━\u001b[0m\u001b[37m\u001b[0m \u001b[1m45s\u001b[0m 2s/step - accuracy: 0.8348 - loss: 0.4518 - val_accuracy: 0.7867 - val_loss: 1.5488 - learning_rate: 0.0100\n",
      "Epoch 3/50\n",
      "\u001b[1m21/21\u001b[0m \u001b[32m━━━━━━━━━━━━━━━━━━━━\u001b[0m\u001b[37m\u001b[0m \u001b[1m44s\u001b[0m 2s/step - accuracy: 0.8509 - loss: 0.4061 - val_accuracy: 0.8033 - val_loss: 0.9420 - learning_rate: 0.0100\n",
      "Epoch 4/50\n",
      "\u001b[1m21/21\u001b[0m \u001b[32m━━━━━━━━━━━━━━━━━━━━\u001b[0m\u001b[37m\u001b[0m \u001b[1m44s\u001b[0m 2s/step - accuracy: 0.8643 - loss: 0.3661 - val_accuracy: 0.8050 - val_loss: 0.7897 - learning_rate: 0.0100\n",
      "Epoch 5/50\n",
      "\u001b[1m21/21\u001b[0m \u001b[32m━━━━━━━━━━━━━━━━━━━━\u001b[0m\u001b[37m\u001b[0m \u001b[1m45s\u001b[0m 2s/step - accuracy: 0.8746 - loss: 0.3427 - val_accuracy: 0.8483 - val_loss: 0.6127 - learning_rate: 0.0100\n",
      "Epoch 6/50\n",
      "\u001b[1m21/21\u001b[0m \u001b[32m━━━━━━━━━━━━━━━━━━━━\u001b[0m\u001b[37m\u001b[0m \u001b[1m44s\u001b[0m 2s/step - accuracy: 0.8953 - loss: 0.2859 - val_accuracy: 0.8733 - val_loss: 0.4266 - learning_rate: 0.0100\n",
      "Epoch 7/50\n",
      "\u001b[1m21/21\u001b[0m \u001b[32m━━━━━━━━━━━━━━━━━━━━\u001b[0m\u001b[37m\u001b[0m \u001b[1m44s\u001b[0m 2s/step - accuracy: 0.8873 - loss: 0.3237 - val_accuracy: 0.8250 - val_loss: 0.5896 - learning_rate: 0.0100\n",
      "Epoch 8/50\n",
      "\u001b[1m21/21\u001b[0m \u001b[32m━━━━━━━━━━━━━━━━━━━━\u001b[0m\u001b[37m\u001b[0m \u001b[1m44s\u001b[0m 2s/step - accuracy: 0.8984 - loss: 0.2767 - val_accuracy: 0.8550 - val_loss: 0.5109 - learning_rate: 0.0100\n",
      "Epoch 9/50\n",
      "\u001b[1m21/21\u001b[0m \u001b[32m━━━━━━━━━━━━━━━━━━━━\u001b[0m\u001b[37m\u001b[0m \u001b[1m45s\u001b[0m 2s/step - accuracy: 0.9018 - loss: 0.2575 - val_accuracy: 0.8833 - val_loss: 0.3627 - learning_rate: 0.0100\n",
      "Epoch 10/50\n",
      "\u001b[1m21/21\u001b[0m \u001b[32m━━━━━━━━━━━━━━━━━━━━\u001b[0m\u001b[37m\u001b[0m \u001b[1m44s\u001b[0m 2s/step - accuracy: 0.9070 - loss: 0.2432 - val_accuracy: 0.8633 - val_loss: 0.4018 - learning_rate: 0.0100\n",
      "Epoch 11/50\n",
      "\u001b[1m21/21\u001b[0m \u001b[32m━━━━━━━━━━━━━━━━━━━━\u001b[0m\u001b[37m\u001b[0m \u001b[1m43s\u001b[0m 2s/step - accuracy: 0.9102 - loss: 0.2430 - val_accuracy: 0.8700 - val_loss: 0.3517 - learning_rate: 0.0090\n",
      "Epoch 12/50\n",
      "\u001b[1m21/21\u001b[0m \u001b[32m━━━━━━━━━━━━━━━━━━━━\u001b[0m\u001b[37m\u001b[0m \u001b[1m46s\u001b[0m 2s/step - accuracy: 0.9133 - loss: 0.2463 - val_accuracy: 0.8517 - val_loss: 0.4951 - learning_rate: 0.0082\n",
      "Epoch 13/50\n",
      "\u001b[1m21/21\u001b[0m \u001b[32m━━━━━━━━━━━━━━━━━━━━\u001b[0m\u001b[37m\u001b[0m \u001b[1m44s\u001b[0m 2s/step - accuracy: 0.9251 - loss: 0.2121 - val_accuracy: 0.8883 - val_loss: 0.3557 - learning_rate: 0.0074\n",
      "Epoch 14/50\n",
      "\u001b[1m21/21\u001b[0m \u001b[32m━━━━━━━━━━━━━━━━━━━━\u001b[0m\u001b[37m\u001b[0m \u001b[1m44s\u001b[0m 2s/step - accuracy: 0.9275 - loss: 0.2132 - val_accuracy: 0.9117 - val_loss: 0.2409 - learning_rate: 0.0067\n",
      "Epoch 15/50\n",
      "\u001b[1m21/21\u001b[0m \u001b[32m━━━━━━━━━━━━━━━━━━━━\u001b[0m\u001b[37m\u001b[0m \u001b[1m43s\u001b[0m 2s/step - accuracy: 0.9269 - loss: 0.1908 - val_accuracy: 0.8983 - val_loss: 0.2478 - learning_rate: 0.0061\n",
      "Epoch 16/50\n",
      "\u001b[1m21/21\u001b[0m \u001b[32m━━━━━━━━━━━━━━━━━━━━\u001b[0m\u001b[37m\u001b[0m \u001b[1m43s\u001b[0m 2s/step - accuracy: 0.9260 - loss: 0.2027 - val_accuracy: 0.8983 - val_loss: 0.3034 - learning_rate: 0.0055\n",
      "Epoch 17/50\n",
      "\u001b[1m21/21\u001b[0m \u001b[32m━━━━━━━━━━━━━━━━━━━━\u001b[0m\u001b[37m\u001b[0m \u001b[1m43s\u001b[0m 2s/step - accuracy: 0.9306 - loss: 0.1951 - val_accuracy: 0.9083 - val_loss: 0.2176 - learning_rate: 0.0050\n",
      "Epoch 18/50\n",
      "\u001b[1m21/21\u001b[0m \u001b[32m━━━━━━━━━━━━━━━━━━━━\u001b[0m\u001b[37m\u001b[0m \u001b[1m43s\u001b[0m 2s/step - accuracy: 0.9321 - loss: 0.1932 - val_accuracy: 0.9050 - val_loss: 0.2334 - learning_rate: 0.0045\n",
      "Epoch 19/50\n",
      "\u001b[1m21/21\u001b[0m \u001b[32m━━━━━━━━━━━━━━━━━━━━\u001b[0m\u001b[37m\u001b[0m \u001b[1m44s\u001b[0m 2s/step - accuracy: 0.9397 - loss: 0.1678 - val_accuracy: 0.9067 - val_loss: 0.2352 - learning_rate: 0.0041\n",
      "Epoch 20/50\n",
      "\u001b[1m21/21\u001b[0m \u001b[32m━━━━━━━━━━━━━━━━━━━━\u001b[0m\u001b[37m\u001b[0m \u001b[1m45s\u001b[0m 2s/step - accuracy: 0.9377 - loss: 0.1790 - val_accuracy: 0.9067 - val_loss: 0.2510 - learning_rate: 0.0037\n",
      "Epoch 21/50\n",
      "\u001b[1m21/21\u001b[0m \u001b[32m━━━━━━━━━━━━━━━━━━━━\u001b[0m\u001b[37m\u001b[0m \u001b[1m46s\u001b[0m 2s/step - accuracy: 0.9407 - loss: 0.1644 - val_accuracy: 0.9067 - val_loss: 0.2898 - learning_rate: 0.0033\n",
      "Epoch 22/50\n",
      "\u001b[1m21/21\u001b[0m \u001b[32m━━━━━━━━━━━━━━━━━━━━\u001b[0m\u001b[37m\u001b[0m \u001b[1m43s\u001b[0m 2s/step - accuracy: 0.9386 - loss: 0.1675 - val_accuracy: 0.9000 - val_loss: 0.2720 - learning_rate: 0.0030\n",
      "Epoch 23/50\n",
      "\u001b[1m21/21\u001b[0m \u001b[32m━━━━━━━━━━━━━━━━━━━━\u001b[0m\u001b[37m\u001b[0m \u001b[1m44s\u001b[0m 2s/step - accuracy: 0.9393 - loss: 0.1675 - val_accuracy: 0.9133 - val_loss: 0.2303 - learning_rate: 0.0027\n",
      "Epoch 24/50\n",
      "\u001b[1m21/21\u001b[0m \u001b[32m━━━━━━━━━━━━━━━━━━━━\u001b[0m\u001b[37m\u001b[0m \u001b[1m43s\u001b[0m 2s/step - accuracy: 0.9422 - loss: 0.1575 - val_accuracy: 0.9117 - val_loss: 0.2398 - learning_rate: 0.0025\n",
      "Epoch 25/50\n",
      "\u001b[1m21/21\u001b[0m \u001b[32m━━━━━━━━━━━━━━━━━━━━\u001b[0m\u001b[37m\u001b[0m \u001b[1m43s\u001b[0m 2s/step - accuracy: 0.9451 - loss: 0.1488 - val_accuracy: 0.9117 - val_loss: 0.2110 - learning_rate: 0.0022\n",
      "Epoch 26/50\n",
      "\u001b[1m21/21\u001b[0m \u001b[32m━━━━━━━━━━━━━━━━━━━━\u001b[0m\u001b[37m\u001b[0m \u001b[1m43s\u001b[0m 2s/step - accuracy: 0.9492 - loss: 0.1512 - val_accuracy: 0.9167 - val_loss: 0.1949 - learning_rate: 0.0020\n",
      "Epoch 27/50\n",
      "\u001b[1m21/21\u001b[0m \u001b[32m━━━━━━━━━━━━━━━━━━━━\u001b[0m\u001b[37m\u001b[0m \u001b[1m43s\u001b[0m 2s/step - accuracy: 0.9395 - loss: 0.1587 - val_accuracy: 0.9200 - val_loss: 0.1805 - learning_rate: 0.0018\n",
      "Epoch 28/50\n",
      "\u001b[1m21/21\u001b[0m \u001b[32m━━━━━━━━━━━━━━━━━━━━\u001b[0m\u001b[37m\u001b[0m \u001b[1m44s\u001b[0m 2s/step - accuracy: 0.9452 - loss: 0.1460 - val_accuracy: 0.9167 - val_loss: 0.2004 - learning_rate: 0.0017\n",
      "Epoch 29/50\n",
      "\u001b[1m21/21\u001b[0m \u001b[32m━━━━━━━━━━━━━━━━━━━━\u001b[0m\u001b[37m\u001b[0m \u001b[1m44s\u001b[0m 2s/step - accuracy: 0.9470 - loss: 0.1489 - val_accuracy: 0.9083 - val_loss: 0.2338 - learning_rate: 0.0015\n",
      "Epoch 30/50\n",
      "\u001b[1m21/21\u001b[0m \u001b[32m━━━━━━━━━━━━━━━━━━━━\u001b[0m\u001b[37m\u001b[0m \u001b[1m43s\u001b[0m 2s/step - accuracy: 0.9466 - loss: 0.1532 - val_accuracy: 0.9217 - val_loss: 0.1910 - learning_rate: 0.0014\n",
      "Epoch 31/50\n",
      "\u001b[1m21/21\u001b[0m \u001b[32m━━━━━━━━━━━━━━━━━━━━\u001b[0m\u001b[37m\u001b[0m \u001b[1m43s\u001b[0m 2s/step - accuracy: 0.9450 - loss: 0.1515 - val_accuracy: 0.9167 - val_loss: 0.1899 - learning_rate: 0.0012\n",
      "Epoch 32/50\n",
      "\u001b[1m21/21\u001b[0m \u001b[32m━━━━━━━━━━━━━━━━━━━━\u001b[0m\u001b[37m\u001b[0m \u001b[1m44s\u001b[0m 2s/step - accuracy: 0.9462 - loss: 0.1474 - val_accuracy: 0.9300 - val_loss: 0.1661 - learning_rate: 0.0011\n",
      "Epoch 33/50\n",
      "\u001b[1m21/21\u001b[0m \u001b[32m━━━━━━━━━━━━━━━━━━━━\u001b[0m\u001b[37m\u001b[0m \u001b[1m44s\u001b[0m 2s/step - accuracy: 0.9338 - loss: 0.1596 - val_accuracy: 0.9267 - val_loss: 0.1691 - learning_rate: 0.0010\n",
      "Epoch 34/50\n",
      "\u001b[1m21/21\u001b[0m \u001b[32m━━━━━━━━━━━━━━━━━━━━\u001b[0m\u001b[37m\u001b[0m \u001b[1m44s\u001b[0m 2s/step - accuracy: 0.9450 - loss: 0.1501 - val_accuracy: 0.9283 - val_loss: 0.1705 - learning_rate: 9.0718e-04\n",
      "Epoch 35/50\n",
      "\u001b[1m21/21\u001b[0m \u001b[32m━━━━━━━━━━━━━━━━━━━━\u001b[0m\u001b[37m\u001b[0m \u001b[1m44s\u001b[0m 2s/step - accuracy: 0.9551 - loss: 0.1294 - val_accuracy: 0.9250 - val_loss: 0.1700 - learning_rate: 8.2085e-04\n",
      "Epoch 36/50\n",
      "\u001b[1m21/21\u001b[0m \u001b[32m━━━━━━━━━━━━━━━━━━━━\u001b[0m\u001b[37m\u001b[0m \u001b[1m44s\u001b[0m 2s/step - accuracy: 0.9504 - loss: 0.1374 - val_accuracy: 0.9233 - val_loss: 0.1723 - learning_rate: 7.4273e-04\n",
      "Epoch 37/50\n",
      "\u001b[1m21/21\u001b[0m \u001b[32m━━━━━━━━━━━━━━━━━━━━\u001b[0m\u001b[37m\u001b[0m \u001b[1m43s\u001b[0m 2s/step - accuracy: 0.9489 - loss: 0.1375 - val_accuracy: 0.9250 - val_loss: 0.1631 - learning_rate: 6.7205e-04\n",
      "Epoch 38/50\n",
      "\u001b[1m21/21\u001b[0m \u001b[32m━━━━━━━━━━━━━━━━━━━━\u001b[0m\u001b[37m\u001b[0m \u001b[1m43s\u001b[0m 2s/step - accuracy: 0.9497 - loss: 0.1361 - val_accuracy: 0.9283 - val_loss: 0.1689 - learning_rate: 6.0810e-04\n",
      "Epoch 39/50\n",
      "\u001b[1m21/21\u001b[0m \u001b[32m━━━━━━━━━━━━━━━━━━━━\u001b[0m\u001b[37m\u001b[0m \u001b[1m43s\u001b[0m 2s/step - accuracy: 0.9494 - loss: 0.1431 - val_accuracy: 0.9217 - val_loss: 0.1826 - learning_rate: 5.5023e-04\n",
      "Epoch 40/50\n",
      "\u001b[1m21/21\u001b[0m \u001b[32m━━━━━━━━━━━━━━━━━━━━\u001b[0m\u001b[37m\u001b[0m \u001b[1m43s\u001b[0m 2s/step - accuracy: 0.9497 - loss: 0.1417 - val_accuracy: 0.9183 - val_loss: 0.1876 - learning_rate: 4.9787e-04\n",
      "Epoch 41/50\n",
      "\u001b[1m21/21\u001b[0m \u001b[32m━━━━━━━━━━━━━━━━━━━━\u001b[0m\u001b[37m\u001b[0m \u001b[1m44s\u001b[0m 2s/step - accuracy: 0.9498 - loss: 0.1422 - val_accuracy: 0.9233 - val_loss: 0.1732 - learning_rate: 4.5049e-04\n",
      "Epoch 42/50\n",
      "\u001b[1m21/21\u001b[0m \u001b[32m━━━━━━━━━━━━━━━━━━━━\u001b[0m\u001b[37m\u001b[0m \u001b[1m43s\u001b[0m 2s/step - accuracy: 0.9502 - loss: 0.1406 - val_accuracy: 0.9217 - val_loss: 0.1676 - learning_rate: 4.0762e-04\n",
      "Epoch 43/50\n",
      "\u001b[1m21/21\u001b[0m \u001b[32m━━━━━━━━━━━━━━━━━━━━\u001b[0m\u001b[37m\u001b[0m \u001b[1m44s\u001b[0m 2s/step - accuracy: 0.9480 - loss: 0.1399 - val_accuracy: 0.9233 - val_loss: 0.1607 - learning_rate: 3.6883e-04\n",
      "Epoch 44/50\n",
      "\u001b[1m21/21\u001b[0m \u001b[32m━━━━━━━━━━━━━━━━━━━━\u001b[0m\u001b[37m\u001b[0m \u001b[1m43s\u001b[0m 2s/step - accuracy: 0.9490 - loss: 0.1392 - val_accuracy: 0.9283 - val_loss: 0.1687 - learning_rate: 3.3373e-04\n",
      "Epoch 45/50\n",
      "\u001b[1m21/21\u001b[0m \u001b[32m━━━━━━━━━━━━━━━━━━━━\u001b[0m\u001b[37m\u001b[0m \u001b[1m44s\u001b[0m 2s/step - accuracy: 0.9515 - loss: 0.1339 - val_accuracy: 0.9283 - val_loss: 0.1695 - learning_rate: 3.0197e-04\n",
      "Epoch 46/50\n",
      "\u001b[1m21/21\u001b[0m \u001b[32m━━━━━━━━━━━━━━━━━━━━\u001b[0m\u001b[37m\u001b[0m \u001b[1m43s\u001b[0m 2s/step - accuracy: 0.9536 - loss: 0.1281 - val_accuracy: 0.9283 - val_loss: 0.1632 - learning_rate: 2.7324e-04\n",
      "Epoch 47/50\n",
      "\u001b[1m21/21\u001b[0m \u001b[32m━━━━━━━━━━━━━━━━━━━━\u001b[0m\u001b[37m\u001b[0m \u001b[1m43s\u001b[0m 2s/step - accuracy: 0.9473 - loss: 0.1321 - val_accuracy: 0.9250 - val_loss: 0.1606 - learning_rate: 2.4723e-04\n",
      "Epoch 48/50\n",
      "\u001b[1m21/21\u001b[0m \u001b[32m━━━━━━━━━━━━━━━━━━━━\u001b[0m\u001b[37m\u001b[0m \u001b[1m43s\u001b[0m 2s/step - accuracy: 0.9562 - loss: 0.1333 - val_accuracy: 0.9283 - val_loss: 0.1691 - learning_rate: 2.2371e-04\n",
      "Epoch 49/50\n",
      "\u001b[1m21/21\u001b[0m \u001b[32m━━━━━━━━━━━━━━━━━━━━\u001b[0m\u001b[37m\u001b[0m \u001b[1m44s\u001b[0m 2s/step - accuracy: 0.9502 - loss: 0.1345 - val_accuracy: 0.9317 - val_loss: 0.1700 - learning_rate: 2.0242e-04\n",
      "Epoch 50/50\n",
      "\u001b[1m21/21\u001b[0m \u001b[32m━━━━━━━━━━━━━━━━━━━━\u001b[0m\u001b[37m\u001b[0m \u001b[1m43s\u001b[0m 2s/step - accuracy: 0.9480 - loss: 0.1419 - val_accuracy: 0.9350 - val_loss: 0.1688 - learning_rate: 1.8316e-04\n",
      "The training of the Transfer Learning model took 37 minutes.\n"
     ]
    }
   ],
   "source": [
    "import time\n",
    "start_time = time.time()\n",
    "\n",
    "history = model.fit(\n",
    "    train_gen,\n",
    "    epochs=50,\n",
    "    validation_data=valid_gen,\n",
    "    callbacks=[lr_scheduler, model_checkpoint_callback]\n",
    ")\n",
    "\n",
    "# history = model.fit(\n",
    "#     train_generator,\n",
    "#     steps_per_epoch=train_generator.samples // train_generator.batch_size,\n",
    "#     epochs=10,\n",
    "#     validation_data=test_generator,\n",
    "#     validation_steps=test_generator.samples // test_generator.batch_size\n",
    "# )\n",
    "\n",
    "# model.save('MobileNetV350epochs64batch_size')\n",
    "end_time = time.time()\n",
    "\n",
    "print('The training of the Transfer Learning model took',round((end_time-start_time)/60),'minutes.')"
   ]
  },
  {
   "cell_type": "code",
   "execution_count": 28,
   "metadata": {
    "colab": {
     "base_uri": "https://localhost:8080/"
    },
    "id": "biNJpUZ1crq-",
    "outputId": "78693438-17e2-48af-a17d-eed8bd92139b"
   },
   "outputs": [
    {
     "name": "stdout",
     "output_type": "stream",
     "text": [
      "\u001b[1m38/38\u001b[0m \u001b[32m━━━━━━━━━━━━━━━━━━━━\u001b[0m\u001b[37m\u001b[0m \u001b[1m9s\u001b[0m 174ms/step - accuracy: 0.9493 - loss: 0.1510\n",
      "Test Loss: 0.158\n",
      "Test Accuracy: 94.67%\n"
     ]
    }
   ],
   "source": [
    "# val_loss, val_accuracy = model.evaluate(x_test, y_test)\n",
    "best_model = tf.keras.models.load_model('ckpt/checkpoint_xception.model.keras')\n",
    "test_loss, test_accuracy = best_model.evaluate(\n",
    "    test_gen,\n",
    "    # steps=test_generator.samples // test_generator.batch_size\n",
    ")\n",
    "\n",
    "print(f\"Test Loss: {round(test_loss,4)}\")\n",
    "print(f\"Test Accuracy: {round(100*test_accuracy,2)}%\")\n"
   ]
  },
  {
   "cell_type": "code",
   "execution_count": 29,
   "metadata": {
    "colab": {
     "base_uri": "https://localhost:8080/"
    },
    "id": "QB1tgKlSygyf",
    "outputId": "be9b79b5-afb1-4636-c634-c2f0b8578244"
   },
   "outputs": [
    {
     "name": "stdout",
     "output_type": "stream",
     "text": [
      "{'accuracy': [0.7163134217262268, 0.8323239684104919, 0.8559803366661072, 0.8586298227310181, 0.8771764039993286, 0.8900454044342041, 0.8972369432449341, 0.897426187992096, 0.9057531952857971, 0.9051854610443115, 0.9101060032844543, 0.9116199612617493, 0.9214609861373901, 0.9242997765541077, 0.9265707731246948, 0.9246782660484314, 0.9290310144424438, 0.929977297782898, 0.9379258155822754, 0.9356548190116882, 0.9430356025695801, 0.9366010427474976, 0.9401968121528625, 0.942089319229126, 0.9430356025695801, 0.9441710710525513, 0.9419000744819641, 0.9443603157997131, 0.9468206167221069, 0.9462528228759766, 0.9417108297348022, 0.9466313123703003, 0.9417108297348022, 0.9462528228759766, 0.9504163265228271, 0.949280858039856, 0.9483345746994019, 0.9507948756217957, 0.9487131237983704, 0.9530658721923828, 0.9479560852050781, 0.9506056308746338, 0.9506056308746338, 0.9485238194465637, 0.9519303441047668, 0.9526873826980591, 0.9494701027870178, 0.954201340675354, 0.9507948756217957, 0.9509841203689575], 'loss': [0.8404785990715027, 0.44446277618408203, 0.39312195777893066, 0.3751482367515564, 0.33477020263671875, 0.30227264761924744, 0.2921927273273468, 0.2800162732601166, 0.2574850022792816, 0.2528238892555237, 0.24298834800720215, 0.24164308607578278, 0.21950136125087738, 0.21183131635189056, 0.19215336441993713, 0.1981256604194641, 0.1986626833677292, 0.19168850779533386, 0.16899937391281128, 0.1792212575674057, 0.16179266571998596, 0.1712356060743332, 0.16431273519992828, 0.16064970195293427, 0.15485812723636627, 0.15708979964256287, 0.1539062261581421, 0.1529780626296997, 0.145708829164505, 0.15123602747917175, 0.15647216141223907, 0.1473044902086258, 0.14887262880802155, 0.14889384806156158, 0.14061714708805084, 0.13953091204166412, 0.14468295872211456, 0.13521504402160645, 0.13867419958114624, 0.13606379926204681, 0.14203186333179474, 0.14053697884082794, 0.13134071230888367, 0.14099930226802826, 0.13180211186408997, 0.13246896862983704, 0.13491292297840118, 0.13743221759796143, 0.13097824156284332, 0.13592319190502167], 'val_accuracy': [0.7099999785423279, 0.7866666913032532, 0.8033333420753479, 0.8050000071525574, 0.8483333587646484, 0.8733333349227905, 0.824999988079071, 0.8550000190734863, 0.8833333253860474, 0.8633333444595337, 0.8700000047683716, 0.8516666889190674, 0.8883333206176758, 0.9116666913032532, 0.8983333110809326, 0.8983333110809326, 0.9083333611488342, 0.9049999713897705, 0.9066666960716248, 0.9066666960716248, 0.9066666960716248, 0.8999999761581421, 0.9133333563804626, 0.9116666913032532, 0.9116666913032532, 0.9166666865348816, 0.9200000166893005, 0.9166666865348816, 0.9083333611488342, 0.92166668176651, 0.9166666865348816, 0.9300000071525574, 0.9266666769981384, 0.9283333420753479, 0.925000011920929, 0.9233333468437195, 0.925000011920929, 0.9283333420753479, 0.92166668176651, 0.9183333516120911, 0.9233333468437195, 0.92166668176651, 0.9233333468437195, 0.9283333420753479, 0.9283333420753479, 0.9283333420753479, 0.925000011920929, 0.9283333420753479, 0.9316666722297668, 0.9350000023841858], 'val_loss': [4.611676216125488, 1.5487970113754272, 0.9419748783111572, 0.7897195219993591, 0.6126741766929626, 0.4266033470630646, 0.5896236896514893, 0.5109241008758545, 0.3627496361732483, 0.40175533294677734, 0.35174861550331116, 0.49505293369293213, 0.35566776990890503, 0.24090884625911713, 0.24784815311431885, 0.3034176826477051, 0.21755266189575195, 0.23344767093658447, 0.23524042963981628, 0.25102880597114563, 0.2898372709751129, 0.2720129191875458, 0.23032523691654205, 0.23975969851016998, 0.21100574731826782, 0.19487224519252777, 0.18053697049617767, 0.20039735734462738, 0.23378174006938934, 0.19101276993751526, 0.18987183272838593, 0.16609473526477814, 0.16905736923217773, 0.17053784430027008, 0.16997845470905304, 0.1723126918077469, 0.16307373344898224, 0.1688704490661621, 0.18262343108654022, 0.18757648766040802, 0.17321810126304626, 0.1675776243209839, 0.1607169657945633, 0.1687377691268921, 0.16948840022087097, 0.16319243609905243, 0.16056837141513824, 0.16914045810699463, 0.17001749575138092, 0.1687862128019333], 'learning_rate': [0.009999999776482582, 0.009999999776482582, 0.009999999776482582, 0.009999999776482582, 0.009999999776482582, 0.009999999776482582, 0.009999999776482582, 0.009999999776482582, 0.009999999776482582, 0.009999999776482582, 0.009048373438417912, 0.008187306113541126, 0.0074081807397305965, 0.00670319888740778, 0.006065304856747389, 0.005488114431500435, 0.004965851083397865, 0.004493287764489651, 0.0040656947530806065, 0.0036787926219403744, 0.0033287089318037033, 0.0030119402799755335, 0.00272531621158123, 0.002465968020260334, 0.0022313001099973917, 0.002018963685259223, 0.0018268338171765208, 0.001652987557463348, 0.0014956849627196789, 0.0013533516321331263, 0.0012245631078258157, 0.0011080304393544793, 0.001002587378025055, 0.0009071785025298595, 0.0008208490326069295, 0.0007427348755300045, 0.0006720542442053556, 0.0006080997991375625, 0.0005502314306795597, 0.0004978699726052582, 0.00045049135223962367, 0.0004076214099768549, 0.0003688310971483588, 0.00033373216865584254, 0.0003019733412656933, 0.0002732367720454931, 0.0002472348278388381, 0.0002237073058495298, 0.0002024187269853428, 0.00018315602210350335]}\n"
     ]
    }
   ],
   "source": [
    "print(history.history)"
   ]
  },
  {
   "cell_type": "code",
   "execution_count": 30,
   "metadata": {
    "colab": {
     "base_uri": "https://localhost:8080/",
     "height": 472
    },
    "id": "HikbqlLqcy_w",
    "outputId": "490259fe-0cd7-4dda-c911-aef3c3c732f5"
   },
   "outputs": [
    {
     "data": {
      "image/png": "[encoded data removed]",
      "text/plain": [
       "<Figure size 640x480 with 1 Axes>"
      ]
     },
     "metadata": {},
     "output_type": "display_data"
    }
   ],
   "source": [
    "plt.plot(history.history['loss'], label='Training Loss')\n",
    "plt.plot(history.history['val_loss'], label='Validation Loss')\n",
    "plt.plot(history.history[\"accuracy\"],label='Accuracy' ,c=\"green\")\n",
    "plt.title(\"Loss and Accuracy in the Transfer Learning Model\")\n",
    "plt.ylabel(\"Loss/Accuracy\")\n",
    "plt.xlabel(\"Epochs\")\n",
    "plt.legend()\n",
    "plt.show()\n"
   ]
  },
  {
   "cell_type": "code",
   "execution_count": 31,
   "metadata": {
    "id": "GOlJTHFwc3VE"
   },
   "outputs": [
    {
     "name": "stdout",
     "output_type": "stream",
     "text": [
      "\u001b[1m38/38\u001b[0m \u001b[32m━━━━━━━━━━━━━━━━━━━━\u001b[0m\u001b[37m\u001b[0m \u001b[1m10s\u001b[0m 199ms/step\n"
     ]
    }
   ],
   "source": [
    "from sklearn.metrics import confusion_matrix, ConfusionMatrixDisplay\n",
    "\n",
    "predicted_labels = np.argmax(best_model.predict(test_gen),axis=1)"
   ]
  },
  {
   "cell_type": "code",
   "execution_count": 27,
   "metadata": {},
   "outputs": [
    {
     "data": {
      "image/png": "[encoded data removed]",
      "text/plain": [
       "<Figure size 800x600 with 2 Axes>"
      ]
     },
     "metadata": {},
     "output_type": "display_data"
    }
   ],
   "source": [
    "import seaborn as sns\n",
    "\n",
    "true_labels = test_gen.classes\n",
    "\n",
    "cm = confusion_matrix(true_labels, predicted_labels)\n",
    "\n",
    "# Step 4: Plot the confusion matrix using Seaborn\n",
    "plt.figure(figsize=(8, 6))\n",
    "sns.heatmap(cm, annot=True, fmt='d', cmap='Blues', xticklabels=test_gen.class_indices.keys(), yticklabels=test_gen.class_indices.keys())\n",
    "plt.xlabel('Predicted Labels')\n",
    "plt.ylabel('True Labels')\n",
    "plt.title('Confusion Matrix')\n",
    "plt.show()\n"
   ]
  }
 ],
 "metadata": {
  "accelerator": "GPU",
  "colab": {
   "gpuType": "T4",
   "provenance": []
  },
  "kernelspec": {
   "display_name": "Python 3",
   "name": "python3"
  },
  "language_info": {
   "codemirror_mode": {
    "name": "ipython",
    "version": 3
   },
   "file_extension": ".py",
   "mimetype": "text/x-python",
   "name": "python",
   "nbconvert_exporter": "python",
   "pygments_lexer": "ipython3",
   "version": "3.9.6"
  }
 },
 "nbformat": 4,
 "nbformat_minor": 0
}
