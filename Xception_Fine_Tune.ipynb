{
 "cells": [
  {
   "cell_type": "code",
   "execution_count": 28,
   "metadata": {
    "id": "OTsDGhNGcIQw"
   },
   "outputs": [],
   "source": [
    "import numpy as np\n",
    "import matplotlib.pyplot as plt\n",
    "import os\n",
    "import pandas as pd\n",
    "import tensorflow as tf\n",
    "from tensorflow.keras.applications import Xception\n",
    "from tensorflow.keras.layers import GlobalAveragePooling2D, AveragePooling2D, Dense, Flatten, BatchNormalization\n",
    "from tensorflow.keras.models import Sequential\n",
    "from tensorflow.keras.optimizers import Adam\n",
    "from sklearn.model_selection import train_test_split\n",
    "from tensorflow.keras.callbacks import LearningRateScheduler, EarlyStopping\n",
    "from tensorflow.keras.preprocessing.image import ImageDataGenerator"
   ]
  },
  {
   "cell_type": "code",
   "execution_count": 43,
   "metadata": {},
   "outputs": [],
   "source": [
    "def train_df(tr_path):\n",
    "    classes, class_paths = zip(*[(label, os.path.join(tr_path, label, image))\n",
    "                                 for label in os.listdir(tr_path) if os.path.isdir(os.path.join(tr_path, label))\n",
    "                                 for image in os.listdir(os.path.join(tr_path, label))])\n",
    "\n",
    "    tr_df = pd.DataFrame({'Class Path': class_paths, 'Class': classes})\n",
    "    return tr_df\n",
    "\n",
    "def test_df(ts_path):\n",
    "    classes, class_paths = zip(*[(label, os.path.join(ts_path, label, image))\n",
    "                                 for label in os.listdir(ts_path) if os.path.isdir(os.path.join(ts_path, label))\n",
    "                                 for image in os.listdir(os.path.join(ts_path, label))])\n",
    "\n",
    "    ts_df = pd.DataFrame({'Class Path': class_paths, 'Class': classes})\n",
    "    return ts_df\n",
    "\n",
    "def scheduler(epoch, lr):\n",
    "    if epoch < 10:\n",
    "        return lr\n",
    "    else:\n",
    "        return float(lr * tf.math.exp(-0.1))"
   ]
  },
  {
   "cell_type": "code",
   "execution_count": 44,
   "metadata": {
    "id": "BeDA3j6VcJCP"
   },
   "outputs": [],
   "source": [
    "# train_path = 'brain_tumor_dataset/Training'\n",
    "# test_path = 'brain_tumor_dataset/Testing'\n",
    "train_path = 'brain_tumor_dataset/Training_balanced'\n",
    "test_path = 'brain_tumor_dataset/Testing_balanced'"
   ]
  },
  {
   "cell_type": "code",
   "execution_count": 45,
   "metadata": {},
   "outputs": [
    {
     "data": {
      "text/html": [
       "<div>\n",
       "<style scoped>\n",
       "    .dataframe tbody tr th:only-of-type {\n",
       "        vertical-align: middle;\n",
       "    }\n",
       "\n",
       "    .dataframe tbody tr th {\n",
       "        vertical-align: top;\n",
       "    }\n",
       "\n",
       "    .dataframe thead th {\n",
       "        text-align: right;\n",
       "    }\n",
       "</style>\n",
       "<table border=\"1\" class=\"dataframe\">\n",
       "  <thead>\n",
       "    <tr style=\"text-align: right;\">\n",
       "      <th></th>\n",
       "      <th>Class Path</th>\n",
       "      <th>Class</th>\n",
       "    </tr>\n",
       "  </thead>\n",
       "  <tbody>\n",
       "    <tr>\n",
       "      <th>816</th>\n",
       "      <td>brain_tumor_dataset/Testing_balanced/meningiom...</td>\n",
       "      <td>meningioma</td>\n",
       "    </tr>\n",
       "    <tr>\n",
       "      <th>617</th>\n",
       "      <td>brain_tumor_dataset/Testing_balanced/meningiom...</td>\n",
       "      <td>meningioma</td>\n",
       "    </tr>\n",
       "    <tr>\n",
       "      <th>495</th>\n",
       "      <td>brain_tumor_dataset/Testing_balanced/pituitary...</td>\n",
       "      <td>pituitary</td>\n",
       "    </tr>\n",
       "    <tr>\n",
       "      <th>155</th>\n",
       "      <td>brain_tumor_dataset/Testing_balanced/notumor/T...</td>\n",
       "      <td>notumor</td>\n",
       "    </tr>\n",
       "    <tr>\n",
       "      <th>1161</th>\n",
       "      <td>brain_tumor_dataset/Testing_balanced/glioma/Te...</td>\n",
       "      <td>glioma</td>\n",
       "    </tr>\n",
       "    <tr>\n",
       "      <th>...</th>\n",
       "      <td>...</td>\n",
       "      <td>...</td>\n",
       "    </tr>\n",
       "    <tr>\n",
       "      <th>421</th>\n",
       "      <td>brain_tumor_dataset/Testing_balanced/pituitary...</td>\n",
       "      <td>pituitary</td>\n",
       "    </tr>\n",
       "    <tr>\n",
       "      <th>418</th>\n",
       "      <td>brain_tumor_dataset/Testing_balanced/pituitary...</td>\n",
       "      <td>pituitary</td>\n",
       "    </tr>\n",
       "    <tr>\n",
       "      <th>115</th>\n",
       "      <td>brain_tumor_dataset/Testing_balanced/notumor/T...</td>\n",
       "      <td>notumor</td>\n",
       "    </tr>\n",
       "    <tr>\n",
       "      <th>41</th>\n",
       "      <td>brain_tumor_dataset/Testing_balanced/notumor/T...</td>\n",
       "      <td>notumor</td>\n",
       "    </tr>\n",
       "    <tr>\n",
       "      <th>8</th>\n",
       "      <td>brain_tumor_dataset/Testing_balanced/notumor/T...</td>\n",
       "      <td>notumor</td>\n",
       "    </tr>\n",
       "  </tbody>\n",
       "</table>\n",
       "<p>600 rows × 2 columns</p>\n",
       "</div>"
      ],
      "text/plain": [
       "                                             Class Path       Class\n",
       "816   brain_tumor_dataset/Testing_balanced/meningiom...  meningioma\n",
       "617   brain_tumor_dataset/Testing_balanced/meningiom...  meningioma\n",
       "495   brain_tumor_dataset/Testing_balanced/pituitary...   pituitary\n",
       "155   brain_tumor_dataset/Testing_balanced/notumor/T...     notumor\n",
       "1161  brain_tumor_dataset/Testing_balanced/glioma/Te...      glioma\n",
       "...                                                 ...         ...\n",
       "421   brain_tumor_dataset/Testing_balanced/pituitary...   pituitary\n",
       "418   brain_tumor_dataset/Testing_balanced/pituitary...   pituitary\n",
       "115   brain_tumor_dataset/Testing_balanced/notumor/T...     notumor\n",
       "41    brain_tumor_dataset/Testing_balanced/notumor/T...     notumor\n",
       "8     brain_tumor_dataset/Testing_balanced/notumor/T...     notumor\n",
       "\n",
       "[600 rows x 2 columns]"
      ]
     },
     "execution_count": 45,
     "metadata": {},
     "output_type": "execute_result"
    }
   ],
   "source": [
    "train_df = train_df(train_path)\n",
    "test_df = test_df(test_path)\n",
    "valid_df, test_df = train_test_split(test_df, train_size=0.5, random_state=20, stratify=test_df['Class'])\n",
    "valid_df"
   ]
  },
  {
   "cell_type": "code",
   "execution_count": 94,
   "metadata": {
    "id": "KSXZMlc3mdbI"
   },
   "outputs": [
    {
     "name": "stdout",
     "output_type": "stream",
     "text": [
      "Found 5284 validated image filenames belonging to 4 classes.\n",
      "Found 600 validated image filenames belonging to 4 classes.\n",
      "Found 600 validated image filenames belonging to 4 classes.\n"
     ]
    }
   ],
   "source": [
    "batch_size = 32\n",
    "img_size = (224, 224)\n",
    "\n",
    "_gen = ImageDataGenerator(\n",
    "    rescale=1.0/255.0,\n",
    "    rotation_range=20,\n",
    "    width_shift_range=0.2,\n",
    "    height_shift_range=0.2,\n",
    "    shear_range=0.2,\n",
    "    zoom_range=0.2,\n",
    "    horizontal_flip=True,\n",
    "    fill_mode='nearest'\n",
    ")\n",
    "\n",
    "test_gen = ImageDataGenerator(rescale=1/255)\n",
    "\n",
    "\n",
    "train_gen = _gen.flow_from_dataframe(train_df, x_col='Class Path',\n",
    "                                  y_col='Class', batch_size=batch_size,\n",
    "                                  target_size=img_size)\n",
    "\n",
    "valid_gen = test_gen.flow_from_dataframe(valid_df, x_col='Class Path',\n",
    "                                     y_col='Class', batch_size=batch_size,\n",
    "                                     target_size=img_size)\n",
    "\n",
    "test_gen = test_gen.flow_from_dataframe(test_df, x_col='Class Path',\n",
    "                                  y_col='Class', batch_size=16,\n",
    "                                  target_size=img_size, shuffle=False)"
   ]
  },
  {
   "cell_type": "code",
   "execution_count": 95,
   "metadata": {
    "colab": {
     "base_uri": "https://localhost:8080/",
     "height": 162
    },
    "id": "M5QT_yB9rhXi",
    "outputId": "9c5b47d0-ee44-4a0b-ee10-b9ba8ca5eb68"
   },
   "outputs": [
    {
     "name": "stdout",
     "output_type": "stream",
     "text": [
      "Training samples: 5284\n",
      "Validation samples: 600\n",
      "Validation samples: 600\n"
     ]
    }
   ],
   "source": [
    "print(f\"Training samples: {train_gen.samples}\")\n",
    "print(f\"Validation samples: {test_gen.samples}\")\n",
    "print(f\"Validation samples: {valid_gen.samples}\")"
   ]
  },
  {
   "cell_type": "code",
   "execution_count": 96,
   "metadata": {
    "colab": {
     "base_uri": "https://localhost:8080/",
     "height": 250
    },
    "id": "WtvXy4HZckzN",
    "outputId": "c9a715d9-e935-420f-ed19-fb6fb1e8e02f"
   },
   "outputs": [
    {
     "data": {
      "text/html": [
       "<pre style=\"white-space:pre;overflow-x:auto;line-height:normal;font-family:Menlo,'DejaVu Sans Mono',consolas,'Courier New',monospace\"><span style=\"font-weight: bold\">Model: \"sequential_9\"</span>\n",
       "</pre>\n"
      ],
      "text/plain": [
       "\u001b[1mModel: \"sequential_9\"\u001b[0m\n"
      ]
     },
     "metadata": {},
     "output_type": "display_data"
    },
    {
     "data": {
      "text/html": [
       "<pre style=\"white-space:pre;overflow-x:auto;line-height:normal;font-family:Menlo,'DejaVu Sans Mono',consolas,'Courier New',monospace\">┏━━━━━━━━━━━━━━━━━━━━━━━━━━━━━━━━━┳━━━━━━━━━━━━━━━━━━━━━━━━┳━━━━━━━━━━━━━━━┓\n",
       "┃<span style=\"font-weight: bold\"> Layer (type)                    </span>┃<span style=\"font-weight: bold\"> Output Shape           </span>┃<span style=\"font-weight: bold\">       Param # </span>┃\n",
       "┡━━━━━━━━━━━━━━━━━━━━━━━━━━━━━━━━━╇━━━━━━━━━━━━━━━━━━━━━━━━╇━━━━━━━━━━━━━━━┩\n",
       "│ xception (<span style=\"color: #0087ff; text-decoration-color: #0087ff\">Functional</span>)           │ (<span style=\"color: #00d7ff; text-decoration-color: #00d7ff\">None</span>, <span style=\"color: #00af00; text-decoration-color: #00af00\">7</span>, <span style=\"color: #00af00; text-decoration-color: #00af00\">7</span>, <span style=\"color: #00af00; text-decoration-color: #00af00\">2048</span>)     │    <span style=\"color: #00af00; text-decoration-color: #00af00\">20,861,480</span> │\n",
       "├─────────────────────────────────┼────────────────────────┼───────────────┤\n",
       "│ average_pooling2d_9             │ (<span style=\"color: #00d7ff; text-decoration-color: #00d7ff\">None</span>, <span style=\"color: #00af00; text-decoration-color: #00af00\">3</span>, <span style=\"color: #00af00; text-decoration-color: #00af00\">3</span>, <span style=\"color: #00af00; text-decoration-color: #00af00\">2048</span>)     │             <span style=\"color: #00af00; text-decoration-color: #00af00\">0</span> │\n",
       "│ (<span style=\"color: #0087ff; text-decoration-color: #0087ff\">AveragePooling2D</span>)              │                        │               │\n",
       "├─────────────────────────────────┼────────────────────────┼───────────────┤\n",
       "│ flatten_9 (<span style=\"color: #0087ff; text-decoration-color: #0087ff\">Flatten</span>)             │ (<span style=\"color: #00d7ff; text-decoration-color: #00d7ff\">None</span>, <span style=\"color: #00af00; text-decoration-color: #00af00\">18432</span>)          │             <span style=\"color: #00af00; text-decoration-color: #00af00\">0</span> │\n",
       "├─────────────────────────────────┼────────────────────────┼───────────────┤\n",
       "│ dense_18 (<span style=\"color: #0087ff; text-decoration-color: #0087ff\">Dense</span>)                │ (<span style=\"color: #00d7ff; text-decoration-color: #00d7ff\">None</span>, <span style=\"color: #00af00; text-decoration-color: #00af00\">256</span>)            │     <span style=\"color: #00af00; text-decoration-color: #00af00\">4,718,848</span> │\n",
       "├─────────────────────────────────┼────────────────────────┼───────────────┤\n",
       "│ batch_normalization_49          │ (<span style=\"color: #00d7ff; text-decoration-color: #00d7ff\">None</span>, <span style=\"color: #00af00; text-decoration-color: #00af00\">256</span>)            │         <span style=\"color: #00af00; text-decoration-color: #00af00\">1,024</span> │\n",
       "│ (<span style=\"color: #0087ff; text-decoration-color: #0087ff\">BatchNormalization</span>)            │                        │               │\n",
       "├─────────────────────────────────┼────────────────────────┼───────────────┤\n",
       "│ dense_19 (<span style=\"color: #0087ff; text-decoration-color: #0087ff\">Dense</span>)                │ (<span style=\"color: #00d7ff; text-decoration-color: #00d7ff\">None</span>, <span style=\"color: #00af00; text-decoration-color: #00af00\">4</span>)              │         <span style=\"color: #00af00; text-decoration-color: #00af00\">1,028</span> │\n",
       "└─────────────────────────────────┴────────────────────────┴───────────────┘\n",
       "</pre>\n"
      ],
      "text/plain": [
       "┏━━━━━━━━━━━━━━━━━━━━━━━━━━━━━━━━━┳━━━━━━━━━━━━━━━━━━━━━━━━┳━━━━━━━━━━━━━━━┓\n",
       "┃\u001b[1m \u001b[0m\u001b[1mLayer (type)                   \u001b[0m\u001b[1m \u001b[0m┃\u001b[1m \u001b[0m\u001b[1mOutput Shape          \u001b[0m\u001b[1m \u001b[0m┃\u001b[1m \u001b[0m\u001b[1m      Param #\u001b[0m\u001b[1m \u001b[0m┃\n",
       "┡━━━━━━━━━━━━━━━━━━━━━━━━━━━━━━━━━╇━━━━━━━━━━━━━━━━━━━━━━━━╇━━━━━━━━━━━━━━━┩\n",
       "│ xception (\u001b[38;5;33mFunctional\u001b[0m)           │ (\u001b[38;5;45mNone\u001b[0m, \u001b[38;5;34m7\u001b[0m, \u001b[38;5;34m7\u001b[0m, \u001b[38;5;34m2048\u001b[0m)     │    \u001b[38;5;34m20,861,480\u001b[0m │\n",
       "├─────────────────────────────────┼────────────────────────┼───────────────┤\n",
       "│ average_pooling2d_9             │ (\u001b[38;5;45mNone\u001b[0m, \u001b[38;5;34m3\u001b[0m, \u001b[38;5;34m3\u001b[0m, \u001b[38;5;34m2048\u001b[0m)     │             \u001b[38;5;34m0\u001b[0m │\n",
       "│ (\u001b[38;5;33mAveragePooling2D\u001b[0m)              │                        │               │\n",
       "├─────────────────────────────────┼────────────────────────┼───────────────┤\n",
       "│ flatten_9 (\u001b[38;5;33mFlatten\u001b[0m)             │ (\u001b[38;5;45mNone\u001b[0m, \u001b[38;5;34m18432\u001b[0m)          │             \u001b[38;5;34m0\u001b[0m │\n",
       "├─────────────────────────────────┼────────────────────────┼───────────────┤\n",
       "│ dense_18 (\u001b[38;5;33mDense\u001b[0m)                │ (\u001b[38;5;45mNone\u001b[0m, \u001b[38;5;34m256\u001b[0m)            │     \u001b[38;5;34m4,718,848\u001b[0m │\n",
       "├─────────────────────────────────┼────────────────────────┼───────────────┤\n",
       "│ batch_normalization_49          │ (\u001b[38;5;45mNone\u001b[0m, \u001b[38;5;34m256\u001b[0m)            │         \u001b[38;5;34m1,024\u001b[0m │\n",
       "│ (\u001b[38;5;33mBatchNormalization\u001b[0m)            │                        │               │\n",
       "├─────────────────────────────────┼────────────────────────┼───────────────┤\n",
       "│ dense_19 (\u001b[38;5;33mDense\u001b[0m)                │ (\u001b[38;5;45mNone\u001b[0m, \u001b[38;5;34m4\u001b[0m)              │         \u001b[38;5;34m1,028\u001b[0m │\n",
       "└─────────────────────────────────┴────────────────────────┴───────────────┘\n"
      ]
     },
     "metadata": {},
     "output_type": "display_data"
    },
    {
     "data": {
      "text/html": [
       "<pre style=\"white-space:pre;overflow-x:auto;line-height:normal;font-family:Menlo,'DejaVu Sans Mono',consolas,'Courier New',monospace\"><span style=\"font-weight: bold\"> Total params: </span><span style=\"color: #00af00; text-decoration-color: #00af00\">25,582,380</span> (97.59 MB)\n",
       "</pre>\n"
      ],
      "text/plain": [
       "\u001b[1m Total params: \u001b[0m\u001b[38;5;34m25,582,380\u001b[0m (97.59 MB)\n"
      ]
     },
     "metadata": {},
     "output_type": "display_data"
    },
    {
     "data": {
      "text/html": [
       "<pre style=\"white-space:pre;overflow-x:auto;line-height:normal;font-family:Menlo,'DejaVu Sans Mono',consolas,'Courier New',monospace\"><span style=\"font-weight: bold\"> Trainable params: </span><span style=\"color: #00af00; text-decoration-color: #00af00\">4,720,388</span> (18.01 MB)\n",
       "</pre>\n"
      ],
      "text/plain": [
       "\u001b[1m Trainable params: \u001b[0m\u001b[38;5;34m4,720,388\u001b[0m (18.01 MB)\n"
      ]
     },
     "metadata": {},
     "output_type": "display_data"
    },
    {
     "data": {
      "text/html": [
       "<pre style=\"white-space:pre;overflow-x:auto;line-height:normal;font-family:Menlo,'DejaVu Sans Mono',consolas,'Courier New',monospace\"><span style=\"font-weight: bold\"> Non-trainable params: </span><span style=\"color: #00af00; text-decoration-color: #00af00\">20,861,992</span> (79.58 MB)\n",
       "</pre>\n"
      ],
      "text/plain": [
       "\u001b[1m Non-trainable params: \u001b[0m\u001b[38;5;34m20,861,992\u001b[0m (79.58 MB)\n"
      ]
     },
     "metadata": {},
     "output_type": "display_data"
    },
    {
     "name": "stdout",
     "output_type": "stream",
     "text": [
      "Num GPUs Available:  0\n"
     ]
    }
   ],
   "source": [
    "import ssl\n",
    "ssl._create_default_https_context = ssl._create_unverified_context\n",
    "\n",
    "checkpoint_filepath = './ckpt/checkpoint_xception2.model.keras'\n",
    "model_temp = Xception(weights='imagenet', include_top=False, input_shape=(224, 224, 3))\n",
    "model_temp.trainable = False\n",
    "\n",
    "model = Sequential()\n",
    "model.add(model_temp)\n",
    "model.add(AveragePooling2D(pool_size=(2, 2)))\n",
    "model.add(Flatten())\n",
    "model.add(Dense(256, activation='relu'))\n",
    "model.add(BatchNormalization())\n",
    "model.add(Dense(4, activation='softmax'))\n",
    "\n",
    "optimizer = Adam(learning_rate=0.01)\n",
    "model.compile(optimizer=optimizer, loss='categorical_crossentropy', metrics=['accuracy'])\n",
    "\n",
    "early_stopping = EarlyStopping(monitor='val_loss', patience=5, mode='min', verbose=1, restore_best_weights=True) \n",
    "\n",
    "lr_scheduler = LearningRateScheduler(scheduler)\n",
    "\n",
    "model_checkpoint_callback = tf.keras.callbacks.ModelCheckpoint(\n",
    "    filepath=checkpoint_filepath,\n",
    "    monitor='val_accuracy',\n",
    "    mode='max',\n",
    "    save_best_only=True)\n",
    "model.summary()\n",
    "\n",
    "print(\"Num GPUs Available: \", len(tf.config.experimental.list_physical_devices('GPU')))"
   ]
  },
  {
   "cell_type": "code",
   "execution_count": 97,
   "metadata": {
    "colab": {
     "base_uri": "https://localhost:8080/"
    },
    "id": "WPPv8UUOcovY",
    "outputId": "5f189eb1-4f49-4002-e726-67baad96e94e"
   },
   "outputs": [
    {
     "name": "stderr",
     "output_type": "stream",
     "text": [
      "/root/test_model/venv/lib/python3.12/site-packages/keras/src/trainers/data_adapters/py_dataset_adapter.py:121: UserWarning: Your `PyDataset` class should call `super().__init__(**kwargs)` in its constructor. `**kwargs` can include `workers`, `use_multiprocessing`, `max_queue_size`. Do not pass these arguments to `fit()`, as they will be ignored.\n",
      "  self._warn_if_super_not_called()\n"
     ]
    },
    {
     "name": "stdout",
     "output_type": "stream",
     "text": [
      "Epoch 1/50\n",
      "\u001b[1m166/166\u001b[0m \u001b[32m━━━━━━━━━━━━━━━━━━━━\u001b[0m\u001b[37m\u001b[0m \u001b[1m48s\u001b[0m 273ms/step - accuracy: 0.6928 - loss: 0.9329 - val_accuracy: 0.8550 - val_loss: 0.3601 - learning_rate: 0.0100\n",
      "Epoch 2/50\n",
      "\u001b[1m166/166\u001b[0m \u001b[32m━━━━━━━━━━━━━━━━━━━━\u001b[0m\u001b[37m\u001b[0m \u001b[1m45s\u001b[0m 268ms/step - accuracy: 0.8535 - loss: 0.4066 - val_accuracy: 0.8867 - val_loss: 0.2770 - learning_rate: 0.0100\n",
      "Epoch 3/50\n",
      "\u001b[1m166/166\u001b[0m \u001b[32m━━━━━━━━━━━━━━━━━━━━\u001b[0m\u001b[37m\u001b[0m \u001b[1m43s\u001b[0m 256ms/step - accuracy: 0.8646 - loss: 0.3580 - val_accuracy: 0.8767 - val_loss: 0.3180 - learning_rate: 0.0100\n",
      "Epoch 4/50\n",
      "\u001b[1m166/166\u001b[0m \u001b[32m━━━━━━━━━━━━━━━━━━━━\u001b[0m\u001b[37m\u001b[0m \u001b[1m47s\u001b[0m 282ms/step - accuracy: 0.8784 - loss: 0.3327 - val_accuracy: 0.8683 - val_loss: 0.3605 - learning_rate: 0.0100\n",
      "Epoch 5/50\n",
      "\u001b[1m166/166\u001b[0m \u001b[32m━━━━━━━━━━━━━━━━━━━━\u001b[0m\u001b[37m\u001b[0m \u001b[1m44s\u001b[0m 265ms/step - accuracy: 0.8850 - loss: 0.3288 - val_accuracy: 0.9083 - val_loss: 0.2534 - learning_rate: 0.0100\n",
      "Epoch 6/50\n",
      "\u001b[1m166/166\u001b[0m \u001b[32m━━━━━━━━━━━━━━━━━━━━\u001b[0m\u001b[37m\u001b[0m \u001b[1m43s\u001b[0m 257ms/step - accuracy: 0.8989 - loss: 0.2776 - val_accuracy: 0.8917 - val_loss: 0.2693 - learning_rate: 0.0100\n",
      "Epoch 7/50\n",
      "\u001b[1m166/166\u001b[0m \u001b[32m━━━━━━━━━━━━━━━━━━━━\u001b[0m\u001b[37m\u001b[0m \u001b[1m44s\u001b[0m 261ms/step - accuracy: 0.8906 - loss: 0.2910 - val_accuracy: 0.8900 - val_loss: 0.3225 - learning_rate: 0.0100\n",
      "Epoch 8/50\n",
      "\u001b[1m166/166\u001b[0m \u001b[32m━━━━━━━━━━━━━━━━━━━━\u001b[0m\u001b[37m\u001b[0m \u001b[1m45s\u001b[0m 270ms/step - accuracy: 0.8923 - loss: 0.3083 - val_accuracy: 0.9200 - val_loss: 0.2336 - learning_rate: 0.0100\n",
      "Epoch 9/50\n",
      "\u001b[1m166/166\u001b[0m \u001b[32m━━━━━━━━━━━━━━━━━━━━\u001b[0m\u001b[37m\u001b[0m \u001b[1m49s\u001b[0m 294ms/step - accuracy: 0.8950 - loss: 0.2761 - val_accuracy: 0.9117 - val_loss: 0.2618 - learning_rate: 0.0100\n",
      "Epoch 10/50\n",
      "\u001b[1m166/166\u001b[0m \u001b[32m━━━━━━━━━━━━━━━━━━━━\u001b[0m\u001b[37m\u001b[0m \u001b[1m46s\u001b[0m 275ms/step - accuracy: 0.9045 - loss: 0.2530 - val_accuracy: 0.9150 - val_loss: 0.2598 - learning_rate: 0.0100\n",
      "Epoch 11/50\n",
      "\u001b[1m166/166\u001b[0m \u001b[32m━━━━━━━━━━━━━━━━━━━━\u001b[0m\u001b[37m\u001b[0m \u001b[1m49s\u001b[0m 296ms/step - accuracy: 0.9072 - loss: 0.2388 - val_accuracy: 0.9067 - val_loss: 0.2458 - learning_rate: 0.0090\n",
      "Epoch 12/50\n",
      "\u001b[1m166/166\u001b[0m \u001b[32m━━━━━━━━━━━━━━━━━━━━\u001b[0m\u001b[37m\u001b[0m \u001b[1m50s\u001b[0m 297ms/step - accuracy: 0.8998 - loss: 0.2512 - val_accuracy: 0.9150 - val_loss: 0.2327 - learning_rate: 0.0082\n",
      "Epoch 13/50\n",
      "\u001b[1m166/166\u001b[0m \u001b[32m━━━━━━━━━━━━━━━━━━━━\u001b[0m\u001b[37m\u001b[0m \u001b[1m49s\u001b[0m 297ms/step - accuracy: 0.9103 - loss: 0.2294 - val_accuracy: 0.9200 - val_loss: 0.2234 - learning_rate: 0.0074\n",
      "Epoch 14/50\n",
      "\u001b[1m166/166\u001b[0m \u001b[32m━━━━━━━━━━━━━━━━━━━━\u001b[0m\u001b[37m\u001b[0m \u001b[1m50s\u001b[0m 299ms/step - accuracy: 0.9210 - loss: 0.2103 - val_accuracy: 0.9350 - val_loss: 0.1757 - learning_rate: 0.0067\n",
      "Epoch 15/50\n",
      "\u001b[1m166/166\u001b[0m \u001b[32m━━━━━━━━━━━━━━━━━━━━\u001b[0m\u001b[37m\u001b[0m \u001b[1m50s\u001b[0m 299ms/step - accuracy: 0.9182 - loss: 0.2178 - val_accuracy: 0.9433 - val_loss: 0.1712 - learning_rate: 0.0061\n",
      "Epoch 16/50\n",
      "\u001b[1m166/166\u001b[0m \u001b[32m━━━━━━━━━━━━━━━━━━━━\u001b[0m\u001b[37m\u001b[0m \u001b[1m50s\u001b[0m 297ms/step - accuracy: 0.9292 - loss: 0.1944 - val_accuracy: 0.9317 - val_loss: 0.1873 - learning_rate: 0.0055\n",
      "Epoch 17/50\n",
      "\u001b[1m166/166\u001b[0m \u001b[32m━━━━━━━━━━━━━━━━━━━━\u001b[0m\u001b[37m\u001b[0m \u001b[1m49s\u001b[0m 296ms/step - accuracy: 0.9305 - loss: 0.1871 - val_accuracy: 0.9300 - val_loss: 0.1773 - learning_rate: 0.0050\n",
      "Epoch 18/50\n",
      "\u001b[1m166/166\u001b[0m \u001b[32m━━━━━━━━━━━━━━━━━━━━\u001b[0m\u001b[37m\u001b[0m \u001b[1m49s\u001b[0m 297ms/step - accuracy: 0.9341 - loss: 0.1823 - val_accuracy: 0.9283 - val_loss: 0.1949 - learning_rate: 0.0045\n",
      "Epoch 19/50\n",
      "\u001b[1m166/166\u001b[0m \u001b[32m━━━━━━━━━━━━━━━━━━━━\u001b[0m\u001b[37m\u001b[0m \u001b[1m49s\u001b[0m 296ms/step - accuracy: 0.9333 - loss: 0.1746 - val_accuracy: 0.9300 - val_loss: 0.1926 - learning_rate: 0.0041\n",
      "Epoch 20/50\n",
      "\u001b[1m166/166\u001b[0m \u001b[32m━━━━━━━━━━━━━━━━━━━━\u001b[0m\u001b[37m\u001b[0m \u001b[1m49s\u001b[0m 296ms/step - accuracy: 0.9456 - loss: 0.1571 - val_accuracy: 0.9283 - val_loss: 0.1822 - learning_rate: 0.0037\n",
      "Epoch 20: early stopping\n",
      "Restoring model weights from the end of the best epoch: 15.\n",
      "The training of the Transfer Learning model took 16 minutes.\n"
     ]
    }
   ],
   "source": [
    "import time\n",
    "start_time = time.time()\n",
    "\n",
    "epochs = 50\n",
    "history = model.fit(\n",
    "    train_gen,\n",
    "    epochs=epochs,\n",
    "    validation_data=valid_gen,\n",
    "    callbacks=[lr_scheduler, model_checkpoint_callback, early_stopping]\n",
    ")\n",
    "\n",
    "end_time = time.time()\n",
    "\n",
    "print('The training of the Transfer Learning model took',round((end_time-start_time)/60),'minutes.')"
   ]
  },
  {
   "cell_type": "code",
   "execution_count": 98,
   "metadata": {
    "colab": {
     "base_uri": "https://localhost:8080/"
    },
    "id": "biNJpUZ1crq-",
    "outputId": "78693438-17e2-48af-a17d-eed8bd92139b"
   },
   "outputs": [
    {
     "name": "stdout",
     "output_type": "stream",
     "text": [
      "\u001b[1m38/38\u001b[0m \u001b[32m━━━━━━━━━━━━━━━━━━━━\u001b[0m\u001b[37m\u001b[0m \u001b[1m8s\u001b[0m 191ms/step - accuracy: 0.9201 - loss: 0.2124\n",
      "Test Loss: 0.1891\n",
      "Test Accuracy: 92.83%\n"
     ]
    }
   ],
   "source": [
    "best_model = tf.keras.models.load_model(checkpoint_filepath)\n",
    "test_loss, test_accuracy = best_model.evaluate(\n",
    "    test_gen,\n",
    "    # steps=test_generator.samples // test_generator.batch_size\n",
    ")\n",
    "\n",
    "print(f\"Test Loss: {round(test_loss,4)}\")\n",
    "print(f\"Test Accuracy: {round(100*test_accuracy,2)}%\")\n"
   ]
  },
  {
   "cell_type": "code",
   "execution_count": 99,
   "metadata": {
    "colab": {
     "base_uri": "https://localhost:8080/"
    },
    "id": "QB1tgKlSygyf",
    "outputId": "be9b79b5-afb1-4636-c634-c2f0b8578244"
   },
   "outputs": [
    {
     "name": "stdout",
     "output_type": "stream",
     "text": [
      "{'accuracy': [0.7660862803459167, 0.8556017875671387, 0.8646858334541321, 0.875473141670227, 0.8847464323043823, 0.8934519290924072, 0.888720691204071, 0.8993186950683594, 0.8953444361686707, 0.9072672128677368, 0.9078349471092224, 0.9076457023620605, 0.9106737375259399, 0.922785758972168, 0.9188115000724792, 0.9237320423126221, 0.9322482943534851, 0.936033308506012, 0.9364117980003357, 0.9462528228759766], 'loss': [0.6505467891693115, 0.3963373899459839, 0.3667275309562683, 0.32534080743789673, 0.31681475043296814, 0.29033833742141724, 0.2977369427680969, 0.273793488740921, 0.26915016770362854, 0.24750679731369019, 0.24097846448421478, 0.2329167127609253, 0.23825706541538239, 0.2087930291891098, 0.216733917593956, 0.2067437767982483, 0.18322598934173584, 0.17456765472888947, 0.17488880455493927, 0.1559062898159027], 'val_accuracy': [0.8550000190734863, 0.8866666555404663, 0.8766666650772095, 0.8683333396911621, 0.9083333611488342, 0.8916666507720947, 0.8899999856948853, 0.9200000166893005, 0.9116666913032532, 0.9150000214576721, 0.9066666960716248, 0.9150000214576721, 0.9200000166893005, 0.9350000023841858, 0.9433333277702332, 0.9316666722297668, 0.9300000071525574, 0.9283333420753479, 0.9300000071525574, 0.9283333420753479], 'val_loss': [0.36014583706855774, 0.27702030539512634, 0.3180284798145294, 0.36048707365989685, 0.253415584564209, 0.26925423741340637, 0.32252874970436096, 0.2336023449897766, 0.2618339955806732, 0.25975045561790466, 0.24584947526454926, 0.23267367482185364, 0.22335581481456757, 0.17571601271629333, 0.171209916472435, 0.18732108175754547, 0.1772719770669937, 0.19487585127353668, 0.1926485300064087, 0.18219159543514252], 'learning_rate': [0.009999999776482582, 0.009999999776482582, 0.009999999776482582, 0.009999999776482582, 0.009999999776482582, 0.009999999776482582, 0.009999999776482582, 0.009999999776482582, 0.009999999776482582, 0.009999999776482582, 0.009048374369740486, 0.008187307976186275, 0.007408182602375746, 0.006703200750052929, 0.006065306719392538, 0.005488116759806871, 0.004965853411704302, 0.004493290092796087, 0.004065697081387043, 0.003678794950246811]}\n"
     ]
    }
   ],
   "source": [
    "print(history.history)"
   ]
  },
  {
   "cell_type": "code",
   "execution_count": 100,
   "metadata": {
    "colab": {
     "base_uri": "https://localhost:8080/",
     "height": 472
    },
    "id": "HikbqlLqcy_w",
    "outputId": "490259fe-0cd7-4dda-c911-aef3c3c732f5"
   },
   "outputs": [
    {
     "data": {
      "image/png": "[encoded data removed]",
      "text/plain": [
       "<Figure size 640x480 with 1 Axes>"
      ]
     },
     "metadata": {},
     "output_type": "display_data"
    }
   ],
   "source": [
    "plt.plot(history.history['loss'], label='Training Loss')\n",
    "plt.plot(history.history['val_loss'], label='Validation Loss')\n",
    "plt.plot(history.history[\"accuracy\"],label='Accuracy' ,c=\"green\")\n",
    "plt.title(\"Loss and Accuracy in the Transfer Learning Model\")\n",
    "plt.ylabel(\"Loss/Accuracy\")\n",
    "plt.xlabel(\"Epochs\")\n",
    "plt.legend()\n",
    "plt.show()\n"
   ]
  },
  {
   "cell_type": "code",
   "execution_count": 101,
   "metadata": {
    "id": "GOlJTHFwc3VE"
   },
   "outputs": [
    {
     "name": "stdout",
     "output_type": "stream",
     "text": [
      "\u001b[1m38/38\u001b[0m \u001b[32m━━━━━━━━━━━━━━━━━━━━\u001b[0m\u001b[37m\u001b[0m \u001b[1m8s\u001b[0m 202ms/step\n"
     ]
    }
   ],
   "source": [
    "from sklearn.metrics import confusion_matrix, ConfusionMatrixDisplay\n",
    "\n",
    "predicted_labels = np.argmax(best_model.predict(test_gen),axis=1)"
   ]
  },
  {
   "cell_type": "code",
   "execution_count": 102,
   "metadata": {},
   "outputs": [
    {
     "data": {
      "image/png": "[encoded data removed]",
      "text/plain": [
       "<Figure size 800x600 with 2 Axes>"
      ]
     },
     "metadata": {},
     "output_type": "display_data"
    }
   ],
   "source": [
    "import seaborn as sns\n",
    "\n",
    "true_labels = test_gen.classes\n",
    "\n",
    "cm = confusion_matrix(true_labels, predicted_labels)\n",
    "\n",
    "# Step 4: Plot the confusion matrix using Seaborn\n",
    "plt.figure(figsize=(8, 6))\n",
    "sns.heatmap(cm, annot=True, fmt='d', cmap='Blues', xticklabels=test_gen.class_indices.keys(), yticklabels=test_gen.class_indices.keys())\n",
    "plt.xlabel('Predicted Labels')\n",
    "plt.ylabel('True Labels')\n",
    "plt.title('Confusion Matrix')\n",
    "plt.show()\n"
   ]
  },
  {
   "cell_type": "code",
   "execution_count": null,
   "metadata": {},
   "outputs": [],
   "source": []
  }
 ],
 "metadata": {
  "accelerator": "GPU",
  "colab": {
   "gpuType": "T4",
   "provenance": []
  },
  "kernelspec": {
   "display_name": "Python 3",
   "name": "python3"
  },
  "language_info": {
   "codemirror_mode": {
    "name": "ipython",
    "version": 3
   },
   "file_extension": ".py",
   "mimetype": "text/x-python",
   "name": "python",
   "nbconvert_exporter": "python",
   "pygments_lexer": "ipython3",
   "version": "3.12.3"
  }
 },
 "nbformat": 4,
 "nbformat_minor": 0
}
